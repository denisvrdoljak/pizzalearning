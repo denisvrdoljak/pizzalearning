{
 "metadata": {
  "kernelspec": {
   "display_name": "Python 2",
   "language": "python",
   "name": "python2"
  },
  "language_info": {
   "codemirror_mode": {
    "name": "ipython",
    "version": 2
   },
   "file_extension": ".py",
   "mimetype": "text/x-python",
   "name": "python",
   "nbconvert_exporter": "python",
   "pygments_lexer": "ipython2",
   "version": "2.7.11"
  },
  "name": "",
  "signature": "sha256:6a3b684755124fe1a2314b8a3f1f7a94c1e822d2ae4969cb385df5300f592caf"
 },
 "nbformat": 3,
 "nbformat_minor": 0,
 "worksheets": [
  {
   "cells": [
    {
     "cell_type": "markdown",
     "metadata": {},
     "source": [
      "The following Python Notebook details our work to discover significant correlations between existing and created features of the RAOP dataset. Each cell ends with a \"Cell Processing Complete\" print statement, as certain functions take a considerable amount of processing time."
     ]
    },
    {
     "cell_type": "code",
     "collapsed": false,
     "input": [
      "%matplotlib inline\n",
      "from sklearn import metrics\n",
      "import pandas as pd\n",
      "import numpy as np\n",
      "from sklearn.feature_extraction.text import CountVectorizer\n",
      "from sklearn.linear_model import LogisticRegression\n",
      "from sklearn.naive_bayes import BernoulliNB\n",
      "from sklearn.naive_bayes import GaussianNB\n",
      "from sklearn.neighbors import KNeighborsClassifier\n",
      "from sklearn.metrics import classification_report\n",
      "from sklearn.tree import DecisionTreeClassifier\n",
      "import codecs\n",
      "import json\n",
      "import itertools\n",
      "import csv\n",
      "import math\n",
      "import matplotlib.pyplot as plt\n",
      "import string\n",
      "\n",
      "def read_dataset(path):\n",
      "  with codecs.open(path, 'r', 'utf-8') as myFile:\n",
      "    content = myFile.read()\n",
      "  dataset = json.loads(content)\n",
      "  return dataset\n",
      "\n",
      "path = 'data/raw_data.json'\n",
      "dataset = read_dataset(path)\n",
      "\n",
      "print 'The dataset contains %d samples.' %(len(dataset))\n",
      "print 'Available attributes: ', sorted(dataset[0].keys())\n",
      "print 'First post:'\n",
      "print json.dumps(dataset[0], sort_keys=True, indent=2)\n",
      "\n",
      "successes = [r['requester_received_pizza'] for r in dataset]\n",
      "success_rate = 100.0 * sum(successes) / float(len(successes))\n",
      "print 'The average success rate is: %.2f%%' %(success_rate)\n",
      "print \"Cell processing complete.\"\n"
     ],
     "language": "python",
     "metadata": {},
     "outputs": [
      {
       "output_type": "stream",
       "stream": "stdout",
       "text": [
        "The dataset contains 5671 samples.\n",
        "Available attributes:  [u'giver_username_if_known', u'in_test_set', u'number_of_downvotes_of_request_at_retrieval', u'number_of_upvotes_of_request_at_retrieval', u'post_was_edited', u'request_id', u'request_number_of_comments_at_retrieval', u'request_text', u'request_text_edit_aware', u'request_title', u'requester_account_age_in_days_at_request', u'requester_account_age_in_days_at_retrieval', u'requester_days_since_first_post_on_raop_at_request', u'requester_days_since_first_post_on_raop_at_retrieval', u'requester_number_of_comments_at_request', u'requester_number_of_comments_at_retrieval', u'requester_number_of_comments_in_raop_at_request', u'requester_number_of_comments_in_raop_at_retrieval', u'requester_number_of_posts_at_request', u'requester_number_of_posts_at_retrieval', u'requester_number_of_posts_on_raop_at_request', u'requester_number_of_posts_on_raop_at_retrieval', u'requester_number_of_subreddits_at_request', u'requester_received_pizza', u'requester_subreddits_at_request', u'requester_upvotes_minus_downvotes_at_request', u'requester_upvotes_minus_downvotes_at_retrieval', u'requester_upvotes_plus_downvotes_at_request', u'requester_upvotes_plus_downvotes_at_retrieval', u'requester_user_flair', u'requester_username', u'unix_timestamp_of_request', u'unix_timestamp_of_request_utc']\n",
        "First post:\n",
        "{\n",
        "  \"giver_username_if_known\": \"N/A\", \n",
        "  \"in_test_set\": false, \n",
        "  \"number_of_downvotes_of_request_at_retrieval\": 2, \n",
        "  \"number_of_upvotes_of_request_at_retrieval\": 6, \n",
        "  \"post_was_edited\": false, \n",
        "  \"request_id\": \"t3_w5491\", \n",
        "  \"request_number_of_comments_at_retrieval\": 7, \n",
        "  \"request_text\": \"I'm not in College, or a starving artist or anything like that. I've just been a bit unlucky lately. I'm a 36 year old single guy with a job. But rent, and other bills killed me this month. I thought I had enough funds in my account to at least keep me set with Mr. Noodles, I forgot about my monthly banking fee.\\n\\nI had a small bag of chips Wednesday afternoon, and I get paid Monday, so I'll be fine then.. It's just really painful at this point and food is something I'm constantly thinking about.\\n\\nI've got a few bucks to get on the bus to work on Saturday, so I can't really use that.\\n\\nI'm really embarrassed to even be asking like this and I'm not sure how it works, so please be patient with me.\\n\\nI guess that covers it. Thank you in advance.\\n\\nCheers folks.\", \n",
        "  \"request_text_edit_aware\": \"I'm not in College, or a starving artist or anything like that. I've just been a bit unlucky lately. I'm a 36 year old single guy with a job. But rent, and other bills killed me this month. I thought I had enough funds in my account to at least keep me set with Mr. Noodles, I forgot about my monthly banking fee.\\n\\nI had a small bag of chips Wednesday afternoon, and I get paid Monday, so I'll be fine then.. It's just really painful at this point and food is something I'm constantly thinking about.\\n\\nI've got a few bucks to get on the bus to work on Saturday, so I can't really use that.\\n\\nI'm really embarrassed to even be asking like this and I'm not sure how it works, so please be patient with me.\\n\\nI guess that covers it. Thank you in advance.\\n\\nCheers folks.\", \n",
        "  \"request_title\": \"[Request] Ontario, Canada - On my 3rd of 5 days without food, and it's getting unbearable. Can anyone help?\", \n",
        "  \"requester_account_age_in_days_at_request\": 14.416875, \n",
        "  \"requester_account_age_in_days_at_retrieval\": 531.9697222222222, \n",
        "  \"requester_days_since_first_post_on_raop_at_request\": 0.0, \n",
        "  \"requester_days_since_first_post_on_raop_at_retrieval\": 517.5111805555556, \n",
        "  \"requester_number_of_comments_at_request\": 8, \n",
        "  \"requester_number_of_comments_at_retrieval\": 93, \n",
        "  \"requester_number_of_comments_in_raop_at_request\": 0, \n",
        "  \"requester_number_of_comments_in_raop_at_retrieval\": 4, \n",
        "  \"requester_number_of_posts_at_request\": 1, \n",
        "  \"requester_number_of_posts_at_retrieval\": 6, \n",
        "  \"requester_number_of_posts_on_raop_at_request\": 0, \n",
        "  \"requester_number_of_posts_on_raop_at_retrieval\": 2, \n",
        "  \"requester_number_of_subreddits_at_request\": 8, \n",
        "  \"requester_received_pizza\": true, \n",
        "  \"requester_subreddits_at_request\": [\n",
        "    \"AdviceAnimals\", \n",
        "    \"WTF\", \n",
        "    \"funny\", \n",
        "    \"gaming\", \n",
        "    \"movies\", \n",
        "    \"technology\", \n",
        "    \"todayilearned\", \n",
        "    \"videos\"\n",
        "  ], \n",
        "  \"requester_upvotes_minus_downvotes_at_request\": 32, \n",
        "  \"requester_upvotes_minus_downvotes_at_retrieval\": 212, \n",
        "  \"requester_upvotes_plus_downvotes_at_request\": 48, \n",
        "  \"requester_upvotes_plus_downvotes_at_retrieval\": 610, \n",
        "  \"requester_user_flair\": \"shroom\", \n",
        "  \"requester_username\": \"RitalinYourMemory\", \n",
        "  \"unix_timestamp_of_request\": 1341604684.0, \n",
        "  \"unix_timestamp_of_request_utc\": 1341601084.0\n",
        "}\n",
        "The average success rate is: 24.63%\n",
        "Cell processing complete.\n"
       ]
      }
     ],
     "prompt_number": 1
    },
    {
     "cell_type": "code",
     "collapsed": false,
     "input": [
      "#read train data\n",
      "def create_data_sets(dataset):\n",
      "    \n",
      "    train = []\n",
      "    cv = []\n",
      "    test = []\n",
      "    current = 0\n",
      "    \n",
      "    shuffle = np.random.permutation(np.arange(len(dataset)))\n",
      "    \n",
      "    train_range = int(round(len(shuffle) * 0.6))\n",
      "    cv_range = int(round(len(shuffle) * 0.2))\n",
      "    test_range = len(dataset) - train_range - cv_range\n",
      "    \n",
      "    for i in range(train_range):\n",
      "        train.append(dataset[shuffle[current]])\n",
      "        current += 1\n",
      "\n",
      "    for i in range(cv_range):\n",
      "        cv.append(dataset[shuffle[current]])\n",
      "        current += 1\n",
      "\n",
      "    for i in range(test_range):\n",
      "        test.append(dataset[shuffle[current]])\n",
      "        current += 1\n",
      "\n",
      "    train_labels = np.zeros(len(train))\n",
      "    cv_labels = np.zeros(len(cv))\n",
      "    test_labels = np.zeros(len(test))\n",
      "\n",
      "    train_data_text = []\n",
      "    cv_data_text = []\n",
      "    test_data_text = []\n",
      "\n",
      "    for i in range(len(train_labels)):\n",
      "        train_labels[i] = train[i].get('requester_received_pizza')\n",
      "\n",
      "    for i in range(len(cv_labels)):\n",
      "        cv_labels[i] = cv[i].get('requester_received_pizza')\n",
      "\n",
      "    for i in range(len(test_labels)):\n",
      "        test_labels[i] = test[i].get('requester_received_pizza')\n",
      "\n",
      "    return train, train_labels, cv, cv_labels, test, test_labels\n",
      "\n",
      "train, train_labels, cv, cv_labels, test, test_labels = create_data_sets(dataset)\n",
      "print \"Cell processing complete.\""
     ],
     "language": "python",
     "metadata": {},
     "outputs": [
      {
       "output_type": "stream",
       "stream": "stdout",
       "text": [
        "Cell processing complete.\n"
       ]
      }
     ],
     "prompt_number": 2
    },
    {
     "cell_type": "code",
     "collapsed": false,
     "input": [
      "import nltk\n",
      "from nltk import word_tokenize          \n",
      "from nltk.stem import WordNetLemmatizer \n",
      "\n",
      "class LemmaTokenizer(object):\n",
      "    def __init__(self):\n",
      "         self.wnl = WordNetLemmatizer()\n",
      "    def __call__(self, doc):\n",
      "         return [self.wnl.lemmatize(t) for t in word_tokenize(doc)]\n",
      "        \n",
      "def better_preprocessor(s):\n",
      "### STUDENT START ###\n",
      "    \n",
      "    #LOWERCASE\n",
      "    s = s.lower()\n",
      "    \n",
      "    #REMOVE PUNCTUATION\n",
      "    s = s.replace(\"!\",\"\")\n",
      "    s = s.replace(\",\",\"\")\n",
      "    s = s.replace(\"?\",\"\")\n",
      "    s = s.replace(\".\",\"\")\n",
      "    s = s.replace(\"\\'\",\"\")\n",
      "    s = s.replace(\"-\",\"\")\n",
      "    s = s.replace(\"_\",\"\")\n",
      "    s = s.replace(\"*\",\"\")\n",
      "    s = s.replace(\"&\",\"\")\n",
      "    s = s.replace(\"$\",\"\")\n",
      "    s = s.replace(\"#\",\"\")\n",
      "    s = s.replace(\"~\",\"\")\n",
      "    s = s.replace(\"\\\\\",\"\")\n",
      "    s = s.replace(\"/\",\"\")\n",
      "    s = s.replace(\"+\",\"\")\n",
      "    s = s.replace(\"=\",\"\")\n",
      "    s = s.replace(\"<\",\"\")\n",
      "    s = s.replace(\">\",\"\")\n",
      "    s = s.replace(\";\",\"\")\n",
      "    s = s.replace(\":\",\"\")\n",
      "    s = s.replace(\"\\\"\",\"\")\n",
      "    \n",
      "    #change any number to the $ symbol\n",
      "    s = s.replace(\"0\",\"$\")\n",
      "    s = s.replace(\"1\",\"$\")\n",
      "    s = s.replace(\"2\",\"$\")\n",
      "    s = s.replace(\"3\",\"$\")\n",
      "    s = s.replace(\"4\",\"$\")\n",
      "    s = s.replace(\"5\",\"$\")\n",
      "    s = s.replace(\"6\",\"$\")\n",
      "    s = s.replace(\"7\",\"$\")\n",
      "    s = s.replace(\"8\",\"$\")\n",
      "    s = s.replace(\"9\",\"$\")\n",
      "    \n",
      "    #rescan tmp and change sequences of $$ into a single $\n",
      "    while(s.find(\"$$\") != -1):\n",
      "        s = s.replace(\"$$\",\"$\")\n",
      "        \n",
      "    return s\n",
      "print \"Cell processing complete.\""
     ],
     "language": "python",
     "metadata": {},
     "outputs": [
      {
       "output_type": "stream",
       "stream": "stdout",
       "text": [
        "Cell processing complete.\n"
       ]
      }
     ],
     "prompt_number": 3
    },
    {
     "cell_type": "markdown",
     "metadata": {},
     "source": [
      "Finding the optimal model fails for the most part because best is determined by score which isn't the F1Score :("
     ]
    },
    {
     "cell_type": "code",
     "collapsed": false,
     "input": [
      "#create upsample for the positive case\n",
      "\n",
      "def upsample_50_50(dataset, train_labels, cv_labels, test_labels):\n",
      "    \n",
      "    class_ratio = 1 / ((sum(train_labels) + sum(cv_labels) +sum(test_labels)) / len(dataset))\n",
      "    \n",
      "    minority_count = ((sum(train_labels) + sum(cv_labels) +sum(test_labels)))\n",
      "    minority_goal = minority_count * (class_ratio - 1)\n",
      "    \n",
      "    upsampled_dataset = list(dataset)\n",
      "                      \n",
      "    while minority_count < minority_goal:\n",
      "        index = int(round(np.random.rand()*len(dataset))) - 1\n",
      "        \n",
      "        if dataset[index].get('requester_received_pizza') == 1:\n",
      "            upsampled_dataset.append(dataset[index])\n",
      "            minority_count += 1\n",
      "        \n",
      "    return upsampled_dataset\n",
      "                      \n",
      "upsampled_dataset = upsample_50_50(dataset, train_labels, cv_labels, test_labels)\n",
      "\n",
      "train_up, train_up_labels, cv_up, cv_up_labels, test_up, test_up_labels = create_data_sets(upsampled_dataset)\n",
      "print \"Cell processing complete.\""
     ],
     "language": "python",
     "metadata": {
      "scrolled": true
     },
     "outputs": [
      {
       "output_type": "stream",
       "stream": "stdout",
       "text": [
        "Cell processing complete.\n"
       ]
      }
     ],
     "prompt_number": 4
    },
    {
     "cell_type": "code",
     "collapsed": true,
     "input": [
      "import string\n",
      "\n",
      "def make_subreddits_matrix(upsampled_dataset, train_up, cv_up, test_up, ngram_range=(1, 1)):\n",
      "    total_data_text = []\n",
      "    train_data_text = []\n",
      "    cv_data_text = []\n",
      "    test_data_text = []\n",
      "\n",
      "    feature = 'requester_subreddits_at_request'\n",
      "    \n",
      "    for i in range(len(upsampled_dataset)):\n",
      "        total_data_text.append(string.join(upsampled_dataset[i].get(feature),\" \"))\n",
      "\n",
      "    for i in range(len(train_up)):\n",
      "        train_data_text.append(string.join(train_up[i].get(feature),\" \"))\n",
      "\n",
      "    for i in range(len(cv_up)):\n",
      "        cv_data_text.append(string.join(cv_up[i].get(feature),\" \"))\n",
      "\n",
      "    for i in range(len(test_up)):\n",
      "        test_data_text.append(string.join(test_up[i].get(feature),\" \"))\n",
      "\n",
      "    vec_total = CountVectorizer(preprocessor=better_preprocessor, analyzer='word',tokenizer=LemmaTokenizer())\n",
      "    tokenized_total_data = vec_total.fit_transform(train_data_text)\n",
      "\n",
      "    vec_train = CountVectorizer(vocabulary=vec_total.vocabulary_,\n",
      "                                preprocessor=better_preprocessor, \n",
      "                                analyzer='word', \n",
      "                                ngram_range=ngram_range, \n",
      "                                tokenizer=LemmaTokenizer())\n",
      "    tokenized_train_data = vec_train.fit_transform(train_data_text)\n",
      "\n",
      "    vec_cv = CountVectorizer(vocabulary=vec_total.vocabulary_,\n",
      "                             preprocessor=better_preprocessor, \n",
      "                             ngram_range=ngram_range,\n",
      "                             analyzer='word',\n",
      "                             tokenizer=LemmaTokenizer())\n",
      "    tokenized_cv_data = vec_cv.fit_transform(cv_data_text)\n",
      "\n",
      "    vec_test = CountVectorizer(vocabulary=vec_total.vocabulary_,\n",
      "                               preprocessor=better_preprocessor, \n",
      "                               ngram_range=ngram_range,\n",
      "                               analyzer='word',\n",
      "                               tokenizer=LemmaTokenizer())\n",
      "    tokenized_test_data = vec_test.fit_transform(test_data_text)\n",
      "    \n",
      "    return vec_total.vocabulary_, tokenized_train_data.todense(), tokenized_cv_data.todense(), tokenized_test_data.todense()\n",
      "\n",
      "vocab_sr, train_data_text_sr, cv_data_text_sr, test_data_text_sr = make_subreddits_matrix(\n",
      "                                                                    upsampled_dataset, train_up, cv_up, test_up)\n",
      "print \"Cell processing complete.\""
     ],
     "language": "python",
     "metadata": {},
     "outputs": [
      {
       "output_type": "stream",
       "stream": "stdout",
       "text": [
        "Cell processing complete.\n"
       ]
      }
     ],
     "prompt_number": 5
    },
    {
     "cell_type": "code",
     "collapsed": false,
     "input": [
      "def L1PruneText(train, train_labels, cv, cv_labels, feature, ngram_range=(1,1)):\n",
      "   \n",
      "    C_val = [0.25, 0.5, 1, 1.5, 3, 6,12, 24]\n",
      "    accuracy = []  #store accuracies for plotting\n",
      "    NNZ_array = [] #store non-zero for plotting\n",
      "    \n",
      "    train_data_text = []\n",
      "    cv_data_text = []\n",
      "    \n",
      "    Valuable_Vocab_List = []\n",
      "\n",
      "    print \"For feature \" + feature + \"\\n\\n\"\n",
      "    \n",
      "    if feature == 'requester_subreddits_at_request':\n",
      "        for i in range(len(train)):\n",
      "            train_data_text.append(string.join(train[i].get(feature),\" \"))\n",
      "        for i in range(len(cv)):\n",
      "            cv_data_text.append(string.join(cv[i].get(feature),\" \"))\n",
      "    else:\n",
      "        for i in range(len(train)):\n",
      "            train_data_text.append(train[i].get(feature))\n",
      "        for i in range(len(cv)):\n",
      "            cv_data_text.append(cv[i].get(feature))\n",
      "    \n",
      "    #Iterate through various C_val parameters for L2 and L1 norms\n",
      "    \n",
      "    for iter in range(len(C_val)):\n",
      "\n",
      "        print \"\\nThe stats for C=\" + str(C_val[iter])\n",
      "        \n",
      "        ############### L2 NORM COMPUTATION #####################\n",
      "        countVecPreProc = CountVectorizer(preprocessor=better_preprocessor,\n",
      "                                          ngram_range=ngram_range)\n",
      "        DocMatrixPreProc = countVecPreProc.fit_transform(train_data_text)\n",
      "        LRPreProcL2 = LogisticRegression(C=C_val[iter],penalty='l2',tol = 0.01)\n",
      "        LRPreProcL2.fit(DocMatrixPreProc,train_labels)\n",
      "\n",
      "        numNonZero = 0  #sum of nonzero parameters for all classes\n",
      "        allZero = 0     #all are 0 for this feature for all classes\n",
      "        total_param = 0       #number of parameters\n",
      "\n",
      "        print LRPreProcL2.coef_.shape\n",
      "\n",
      "        for i in range(LRPreProcL2.coef_.shape[0]):\n",
      "            for j in range(LRPreProcL2.coef_.shape[1]):\n",
      "                total_param = total_param + 1\n",
      "                if(LRPreProcL2.coef_[i,j]!=0):\n",
      "                    numNonZero = numNonZero + 1\n",
      "\n",
      "                #see if all of this feature are 0\n",
      "                if((LRPreProcL2.coef_[0,j] == 0)):\n",
      "                    allZero = allZero + 1\n",
      "\n",
      "        print \"L2 Total :\" + str(total_param)\n",
      "        print \"L2 Number non-zero :\" + str(numNonZero)\n",
      "        print \"L2 Number features with all zero :\" + str(allZero)\n",
      "\n",
      "        ############### L1 NORM COMPUTATION #####################\n",
      "        countVecPreProc = CountVectorizer(preprocessor=better_preprocessor,\n",
      "                                          ngram_range=ngram_range)\n",
      "        DocMatrixPreProc = countVecPreProc.fit_transform(train_data_text)\n",
      "        LRPreProcL1 = LogisticRegression(C=C_val[iter],penalty='l1',tol = 0.01)\n",
      "        LRPreProcL1.fit(DocMatrixPreProc,train_labels)\n",
      "\n",
      "        numNonZero = 0  #sum of nonzero parameters for all classes\n",
      "        allZero = 0     #all are 0 for this feature for all classes\n",
      "        total_param = 0       #number of parameters\n",
      "        ValuableIndices = [] #track features that have at least one class with a non zero weight\n",
      "\n",
      "        print LRPreProcL1.coef_.shape\n",
      "\n",
      "        for i in range(LRPreProcL1.coef_.shape[0]):\n",
      "            for j in range(LRPreProcL1.coef_.shape[1]):\n",
      "                total_param = total_param + 1\n",
      "                if(LRPreProcL1.coef_[i,j]!=0):\n",
      "                    numNonZero = numNonZero + 1\n",
      "\n",
      "                #see if all of this feature are 0\n",
      "                if((LRPreProcL1.coef_[0,j] == 0)):\n",
      "                    allZero = allZero + 1\n",
      "                else:\n",
      "                    ValuableIndices.append(j)\n",
      "\n",
      "        print \"L1 Total :\" + str(total_param)\n",
      "        print \"L1 Number non-zero :\" + str(numNonZero)\n",
      "        print \"L1 Number features with all zero :\" + str(allZero)\n",
      "        \n",
      "        ############### FILTER USING L1 WEIGHTS #####################\n",
      "        #get valuable vocab using the criteria L1 weight > 0\n",
      "\n",
      "        ValuableVocab = []\n",
      "\n",
      "        for i in range(LRPreProcL1.coef_.shape[1]):\n",
      "            if i in ValuableIndices:\n",
      "                ValuableVocab.append(countVecPreProc.get_feature_names()[i])\n",
      "\n",
      "        #Trim vocab to just valuable features\n",
      "        countVecL1Trim = CountVectorizer(vocabulary = ValuableVocab, \n",
      "                                         preprocessor=better_preprocessor,\n",
      "                                         ngram_range=ngram_range)\n",
      "        DocMatrixL1Trim = countVecL1Trim.fit_transform(train_data_text)\n",
      "        LRL1TrimL2Train = LogisticRegression(C=C_val[iter],penalty='l2',tol = 0.01)\n",
      "        LRL1TrimL2Train.fit(DocMatrixL1Trim,train_labels)\n",
      "\n",
      "\n",
      "        #make sure we use the vocab from the train data\n",
      "        countVecDevL1Trim = CountVectorizer(vocabulary = ValuableVocab, \n",
      "                                            preprocessor=better_preprocessor,\n",
      "                                            ngram_range=ngram_range)\n",
      "        DocMatrixDevL1Trim = countVecDevL1Trim.fit_transform(cv_data_text)\n",
      "        cv_pred_LR_L1TrimL2Train = LRL1TrimL2Train.predict(DocMatrixDevL1Trim)\n",
      "\n",
      "\n",
      "        print(classification_report(cv_labels, cv_pred_LR_L1TrimL2Train))\n",
      "        accuracy.append(LRL1TrimL2Train.score(DocMatrixDevL1Trim,cv_labels))\n",
      "        NNZ_array.append(numNonZero)\n",
      "    \n",
      "        Valuable_Vocab_List.append(ValuableVocab)\n",
      "    \n",
      "    plt.plot(NNZ_array,accuracy,'ro')\n",
      "    plt.show()\n",
      "    \n",
      "    return Valuable_Vocab_List\n",
      "\n",
      "ValuableVocab_Text = L1PruneText(train_up, train_up_labels, cv_up, cv_up_labels, 'request_text_edit_aware')\n",
      "ValuableVocab_Title = L1PruneText(train_up, train_up_labels, cv_up, cv_up_labels, 'request_title')\n",
      "ValuableVocab_Subreddits = L1PruneText(train_up, train_up_labels, cv_up, cv_up_labels, 'requester_subreddits_at_request')\n",
      "print \"Cell processing complete.\""
     ],
     "language": "python",
     "metadata": {},
     "outputs": [
      {
       "output_type": "stream",
       "stream": "stdout",
       "text": [
        "For feature request_text_edit_aware\n",
        "\n",
        "\n",
        "\n",
        "The stats for C=0.25"
       ]
      },
      {
       "output_type": "stream",
       "stream": "stdout",
       "text": [
        "\n",
        "(1, 12584)"
       ]
      },
      {
       "output_type": "stream",
       "stream": "stdout",
       "text": [
        "\n",
        "L2 Total :12584\n",
        "L2 Number non-zero :12584\n",
        "L2 Number features with all zero :0\n",
        "(1, 12584)"
       ]
      },
      {
       "output_type": "stream",
       "stream": "stdout",
       "text": [
        "\n",
        "L1 Total :12584\n",
        "L1 Number non-zero :523\n",
        "L1 Number features with all zero :12061\n",
        "             precision    recall  f1-score   support\n",
        "\n",
        "        0.0       0.65      0.65      0.65       877\n",
        "        1.0       0.63      0.64      0.63       833\n",
        "\n",
        "avg / total       0.64      0.64      0.64      1710\n"
       ]
      },
      {
       "output_type": "stream",
       "stream": "stdout",
       "text": [
        "\n",
        "\n",
        "The stats for C=0.5\n",
        "(1, 12584)"
       ]
      },
      {
       "output_type": "stream",
       "stream": "stdout",
       "text": [
        "\n",
        "L2 Total :12584\n",
        "L2 Number non-zero :12584\n",
        "L2 Number features with all zero :0\n",
        "(1, 12584)"
       ]
      },
      {
       "output_type": "stream",
       "stream": "stdout",
       "text": [
        "\n",
        "L1 Total :12584\n",
        "L1 Number non-zero :948\n",
        "L1 Number features with all zero :11636\n",
        "             precision    recall  f1-score   support\n",
        "\n",
        "        0.0       0.70      0.66      0.68       877\n",
        "        1.0       0.66      0.70      0.68       833\n",
        "\n",
        "avg / total       0.68      0.68      0.68      1710\n"
       ]
      },
      {
       "output_type": "stream",
       "stream": "stdout",
       "text": [
        "\n",
        "\n",
        "The stats for C=1\n",
        "(1, 12584)"
       ]
      },
      {
       "output_type": "stream",
       "stream": "stdout",
       "text": [
        "\n",
        "L2 Total :12584\n",
        "L2 Number non-zero :12584\n",
        "L2 Number features with all zero :0\n",
        "(1, 12584)"
       ]
      },
      {
       "output_type": "stream",
       "stream": "stdout",
       "text": [
        "\n",
        "L1 Total :12584\n",
        "L1 Number non-zero :1453\n",
        "L1 Number features with all zero :11131\n",
        "             precision    recall  f1-score   support\n",
        "\n",
        "        0.0       0.75      0.68      0.72       877\n",
        "        1.0       0.70      0.76      0.73       833\n",
        "\n",
        "avg / total       0.73      0.72      0.72      1710\n"
       ]
      },
      {
       "output_type": "stream",
       "stream": "stdout",
       "text": [
        "\n",
        "\n",
        "The stats for C=1.5\n",
        "(1, 12584)"
       ]
      },
      {
       "output_type": "stream",
       "stream": "stdout",
       "text": [
        "\n",
        "L2 Total :12584\n",
        "L2 Number non-zero :12584\n",
        "L2 Number features with all zero :0\n",
        "(1, 12584)"
       ]
      },
      {
       "output_type": "stream",
       "stream": "stdout",
       "text": [
        "\n",
        "L1 Total :12584\n",
        "L1 Number non-zero :1732\n",
        "L1 Number features with all zero :10852\n",
        "             precision    recall  f1-score   support\n",
        "\n",
        "        0.0       0.78      0.69      0.73       877\n",
        "        1.0       0.71      0.80      0.75       833\n",
        "\n",
        "avg / total       0.75      0.74      0.74      1710\n"
       ]
      },
      {
       "output_type": "stream",
       "stream": "stdout",
       "text": [
        "\n",
        "\n",
        "The stats for C=3\n",
        "(1, 12584)"
       ]
      },
      {
       "output_type": "stream",
       "stream": "stdout",
       "text": [
        "\n",
        "L2 Total :12584\n",
        "L2 Number non-zero :12584\n",
        "L2 Number features with all zero :0\n",
        "(1, 12584)"
       ]
      },
      {
       "output_type": "stream",
       "stream": "stdout",
       "text": [
        "\n",
        "L1 Total :12584\n",
        "L1 Number non-zero :2148\n",
        "L1 Number features with all zero :10436\n",
        "             precision    recall  f1-score   support\n",
        "\n",
        "        0.0       0.83      0.69      0.75       877\n",
        "        1.0       0.72      0.85      0.78       833\n",
        "\n",
        "avg / total       0.78      0.77      0.77      1710\n"
       ]
      },
      {
       "output_type": "stream",
       "stream": "stdout",
       "text": [
        "\n",
        "\n",
        "The stats for C=6\n",
        "(1, 12584)"
       ]
      },
      {
       "output_type": "stream",
       "stream": "stdout",
       "text": [
        "\n",
        "L2 Total :12584\n",
        "L2 Number non-zero :12584\n",
        "L2 Number features with all zero :0\n",
        "(1, 12584)"
       ]
      },
      {
       "output_type": "stream",
       "stream": "stdout",
       "text": [
        "\n",
        "L1 Total :12584\n",
        "L1 Number non-zero :2561\n",
        "L1 Number features with all zero :10023\n",
        "             precision    recall  f1-score   support\n",
        "\n",
        "        0.0       0.84      0.67      0.74       877\n",
        "        1.0       0.71      0.86      0.78       833\n",
        "\n",
        "avg / total       0.78      0.76      0.76      1710\n"
       ]
      },
      {
       "output_type": "stream",
       "stream": "stdout",
       "text": [
        "\n",
        "\n",
        "The stats for C=12\n",
        "(1, 12584)"
       ]
      },
      {
       "output_type": "stream",
       "stream": "stdout",
       "text": [
        "\n",
        "L2 Total :12584\n",
        "L2 Number non-zero :12584\n",
        "L2 Number features with all zero :0\n",
        "(1, 12584)"
       ]
      },
      {
       "output_type": "stream",
       "stream": "stdout",
       "text": [
        "\n",
        "L1 Total :12584\n",
        "L1 Number non-zero :2973\n",
        "L1 Number features with all zero :9611\n",
        "             precision    recall  f1-score   support\n",
        "\n",
        "        0.0       0.85      0.67      0.75       877\n",
        "        1.0       0.72      0.88      0.79       833\n",
        "\n",
        "avg / total       0.79      0.77      0.77      1710\n"
       ]
      },
      {
       "output_type": "stream",
       "stream": "stdout",
       "text": [
        "\n",
        "\n",
        "The stats for C=24\n",
        "(1, 12584)"
       ]
      },
      {
       "output_type": "stream",
       "stream": "stdout",
       "text": [
        "\n",
        "L2 Total :12584\n",
        "L2 Number non-zero :12584\n",
        "L2 Number features with all zero :0\n",
        "(1, 12584)"
       ]
      },
      {
       "output_type": "stream",
       "stream": "stdout",
       "text": [
        "\n",
        "L1 Total :12584\n",
        "L1 Number non-zero :3974\n",
        "L1 Number features with all zero :8610\n",
        "             precision    recall  f1-score   support\n",
        "\n",
        "        0.0       0.86      0.67      0.76       877\n",
        "        1.0       0.72      0.88      0.79       833\n",
        "\n",
        "avg / total       0.79      0.78      0.77      1710\n"
       ]
      },
      {
       "output_type": "stream",
       "stream": "stdout",
       "text": [
        "\n"
       ]
      },
      {
       "metadata": {},
       "output_type": "display_data",
       "png": "[encoded data removed]",
       "text": [
        "<matplotlib.figure.Figure at 0x118e0de50>"
       ]
      },
      {
       "output_type": "stream",
       "stream": "stdout",
       "text": [
        "For feature request_title\n",
        "\n",
        "\n",
        "\n",
        "The stats for C=0.25\n",
        "(1, 4481)"
       ]
      },
      {
       "output_type": "stream",
       "stream": "stdout",
       "text": [
        "\n",
        "L2 Total :4481\n",
        "L2 Number non-zero :4481\n",
        "L2 Number features with all zero :0\n",
        "(1, 4481)"
       ]
      },
      {
       "output_type": "stream",
       "stream": "stdout",
       "text": [
        "\n",
        "L1 Total :4481\n",
        "L1 Number non-zero :220\n",
        "L1 Number features with all zero :4261\n",
        "             precision    recall  f1-score   support\n",
        "\n",
        "        0.0       0.60      0.62      0.61       877\n",
        "        1.0       0.58      0.56      0.57       833\n",
        "\n",
        "avg / total       0.59      0.59      0.59      1710\n"
       ]
      },
      {
       "output_type": "stream",
       "stream": "stdout",
       "text": [
        "\n",
        "\n",
        "The stats for C=0.5\n",
        "(1, 4481)"
       ]
      },
      {
       "output_type": "stream",
       "stream": "stdout",
       "text": [
        "\n",
        "L2 Total :4481\n",
        "L2 Number non-zero :4481\n",
        "L2 Number features with all zero :0\n",
        "(1, 4481)"
       ]
      },
      {
       "output_type": "stream",
       "stream": "stdout",
       "text": [
        "\n",
        "L1 Total :4481\n",
        "L1 Number non-zero :475\n",
        "L1 Number features with all zero :4006\n",
        "             precision    recall  f1-score   support\n",
        "\n",
        "        0.0       0.64      0.65      0.65       877\n",
        "        1.0       0.63      0.61      0.62       833\n",
        "\n",
        "avg / total       0.63      0.63      0.63      1710\n"
       ]
      },
      {
       "output_type": "stream",
       "stream": "stdout",
       "text": [
        "\n",
        "\n",
        "The stats for C=1\n",
        "(1, 4481)"
       ]
      },
      {
       "output_type": "stream",
       "stream": "stdout",
       "text": [
        "\n",
        "L2 Total :4481\n",
        "L2 Number non-zero :4481\n",
        "L2 Number features with all zero :0\n",
        "(1, 4481)"
       ]
      },
      {
       "output_type": "stream",
       "stream": "stdout",
       "text": [
        "\n",
        "L1 Total :4481\n",
        "L1 Number non-zero :951\n",
        "L1 Number features with all zero :3530\n",
        "             precision    recall  f1-score   support\n",
        "\n",
        "        0.0       0.70      0.69      0.69       877\n",
        "        1.0       0.67      0.69      0.68       833\n",
        "\n",
        "avg / total       0.69      0.69      0.69      1710\n"
       ]
      },
      {
       "output_type": "stream",
       "stream": "stdout",
       "text": [
        "\n",
        "\n",
        "The stats for C=1.5\n",
        "(1, 4481)"
       ]
      },
      {
       "output_type": "stream",
       "stream": "stdout",
       "text": [
        "\n",
        "L2 Total :4481\n",
        "L2 Number non-zero :4481\n",
        "L2 Number features with all zero :0\n",
        "(1, 4481)"
       ]
      },
      {
       "output_type": "stream",
       "stream": "stdout",
       "text": [
        "\n",
        "L1 Total :4481\n",
        "L1 Number non-zero :1280\n",
        "L1 Number features with all zero :3201\n",
        "             precision    recall  f1-score   support\n",
        "\n",
        "        0.0       0.72      0.70      0.71       877\n",
        "        1.0       0.69      0.71      0.70       833\n",
        "\n",
        "avg / total       0.70      0.70      0.70      1710\n"
       ]
      },
      {
       "output_type": "stream",
       "stream": "stdout",
       "text": [
        "\n",
        "\n",
        "The stats for C=3\n",
        "(1, 4481)"
       ]
      },
      {
       "output_type": "stream",
       "stream": "stdout",
       "text": [
        "\n",
        "L2 Total :4481\n",
        "L2 Number non-zero :4481\n",
        "L2 Number features with all zero :0\n",
        "(1, 4481)"
       ]
      },
      {
       "output_type": "stream",
       "stream": "stdout",
       "text": [
        "\n",
        "L1 Total :4481\n",
        "L1 Number non-zero :1850\n",
        "L1 Number features with all zero :2631\n",
        "             precision    recall  f1-score   support\n",
        "\n",
        "        0.0       0.76      0.69      0.72       877\n",
        "        1.0       0.70      0.77      0.74       833\n",
        "\n",
        "avg / total       0.73      0.73      0.73      1710\n"
       ]
      },
      {
       "output_type": "stream",
       "stream": "stdout",
       "text": [
        "\n",
        "\n",
        "The stats for C=6\n",
        "(1, 4481)"
       ]
      },
      {
       "output_type": "stream",
       "stream": "stdout",
       "text": [
        "\n",
        "L2 Total :4481\n",
        "L2 Number non-zero :4481\n",
        "L2 Number features with all zero :0\n",
        "(1, 4481)"
       ]
      },
      {
       "output_type": "stream",
       "stream": "stdout",
       "text": [
        "\n",
        "L1 Total :4481\n",
        "L1 Number non-zero :2203\n",
        "L1 Number features with all zero :2278\n",
        "             precision    recall  f1-score   support\n",
        "\n",
        "        0.0       0.80      0.69      0.74       877\n",
        "        1.0       0.71      0.82      0.76       833\n",
        "\n",
        "avg / total       0.76      0.75      0.75      1710\n"
       ]
      },
      {
       "output_type": "stream",
       "stream": "stdout",
       "text": [
        "\n",
        "\n",
        "The stats for C=12\n",
        "(1, 4481)"
       ]
      },
      {
       "output_type": "stream",
       "stream": "stdout",
       "text": [
        "\n",
        "L2 Total :4481\n",
        "L2 Number non-zero :4481\n",
        "L2 Number features with all zero :0\n",
        "(1, 4481)"
       ]
      },
      {
       "output_type": "stream",
       "stream": "stdout",
       "text": [
        "\n",
        "L1 Total :4481\n",
        "L1 Number non-zero :2432\n",
        "L1 Number features with all zero :2049\n",
        "             precision    recall  f1-score   support\n",
        "\n",
        "        0.0       0.80      0.69      0.74       877\n",
        "        1.0       0.71      0.82      0.76       833\n",
        "\n",
        "avg / total       0.76      0.75      0.75      1710\n"
       ]
      },
      {
       "output_type": "stream",
       "stream": "stdout",
       "text": [
        "\n",
        "\n",
        "The stats for C=24\n",
        "(1, 4481)"
       ]
      },
      {
       "output_type": "stream",
       "stream": "stdout",
       "text": [
        "\n",
        "L2 Total :4481\n",
        "L2 Number non-zero :4481\n",
        "L2 Number features with all zero :0\n",
        "(1, 4481)"
       ]
      },
      {
       "output_type": "stream",
       "stream": "stdout",
       "text": [
        "\n",
        "L1 Total :4481\n",
        "L1 Number non-zero :2599\n",
        "L1 Number features with all zero :1882\n",
        "             precision    recall  f1-score   support\n",
        "\n",
        "        0.0       0.81      0.68      0.74       877\n",
        "        1.0       0.71      0.84      0.77       833\n",
        "\n",
        "avg / total       0.76      0.75      0.75      1710\n"
       ]
      },
      {
       "output_type": "stream",
       "stream": "stdout",
       "text": [
        "\n"
       ]
      },
      {
       "metadata": {},
       "output_type": "display_data",
       "png": "[encoded data removed]",
       "text": [
        "<matplotlib.figure.Figure at 0x102feb810>"
       ]
      },
      {
       "output_type": "stream",
       "stream": "stdout",
       "text": [
        "For feature requester_subreddits_at_request\n",
        "\n",
        "\n",
        "\n",
        "The stats for C=0.25"
       ]
      },
      {
       "output_type": "stream",
       "stream": "stdout",
       "text": [
        "\n",
        "(1, 7028)"
       ]
      },
      {
       "output_type": "stream",
       "stream": "stdout",
       "text": [
        "\n",
        "L2 Total :7028\n",
        "L2 Number non-zero :7028\n",
        "L2 Number features with all zero :0\n",
        "(1, 7028)"
       ]
      },
      {
       "output_type": "stream",
       "stream": "stdout",
       "text": [
        "\n",
        "L1 Total :7028\n",
        "L1 Number non-zero :204\n",
        "L1 Number features with all zero :6824\n",
        "             precision    recall  f1-score   support\n",
        "\n",
        "        0.0       0.63      0.66      0.64       877\n",
        "        1.0       0.62      0.58      0.60       833\n",
        "\n",
        "avg / total       0.62      0.62      0.62      1710\n"
       ]
      },
      {
       "output_type": "stream",
       "stream": "stdout",
       "text": [
        "\n",
        "\n",
        "The stats for C=0.5\n",
        "(1, 7028)"
       ]
      },
      {
       "output_type": "stream",
       "stream": "stdout",
       "text": [
        "\n",
        "L2 Total :7028\n",
        "L2 Number non-zero :7028\n",
        "L2 Number features with all zero :0\n",
        "(1, 7028)"
       ]
      },
      {
       "output_type": "stream",
       "stream": "stdout",
       "text": [
        "\n",
        "L1 Total :7028\n",
        "L1 Number non-zero :475\n",
        "L1 Number features with all zero :6553\n",
        "             precision    recall  f1-score   support\n",
        "\n",
        "        0.0       0.66      0.70      0.68       877\n",
        "        1.0       0.66      0.62      0.64       833\n",
        "\n",
        "avg / total       0.66      0.66      0.66      1710\n"
       ]
      },
      {
       "output_type": "stream",
       "stream": "stdout",
       "text": [
        "\n",
        "\n",
        "The stats for C=1\n",
        "(1, 7028)"
       ]
      },
      {
       "output_type": "stream",
       "stream": "stdout",
       "text": [
        "\n",
        "L2 Total :7028\n",
        "L2 Number non-zero :7028\n",
        "L2 Number features with all zero :0\n",
        "(1, 7028)"
       ]
      },
      {
       "output_type": "stream",
       "stream": "stdout",
       "text": [
        "\n",
        "L1 Total :7028\n",
        "L1 Number non-zero :857\n",
        "L1 Number features with all zero :6171\n",
        "             precision    recall  f1-score   support\n",
        "\n",
        "        0.0       0.67      0.72      0.69       877\n",
        "        1.0       0.68      0.63      0.66       833\n",
        "\n",
        "avg / total       0.68      0.68      0.68      1710\n"
       ]
      },
      {
       "output_type": "stream",
       "stream": "stdout",
       "text": [
        "\n",
        "\n",
        "The stats for C=1.5\n",
        "(1, 7028)"
       ]
      },
      {
       "output_type": "stream",
       "stream": "stdout",
       "text": [
        "\n",
        "L2 Total :7028\n",
        "L2 Number non-zero :7028\n",
        "L2 Number features with all zero :0\n",
        "(1, 7028)"
       ]
      },
      {
       "output_type": "stream",
       "stream": "stdout",
       "text": [
        "\n",
        "L1 Total :7028\n",
        "L1 Number non-zero :1111\n",
        "L1 Number features with all zero :5917\n",
        "             precision    recall  f1-score   support\n",
        "\n",
        "        0.0       0.69      0.73      0.71       877\n",
        "        1.0       0.70      0.66      0.68       833\n",
        "\n",
        "avg / total       0.69      0.69      0.69      1710\n"
       ]
      },
      {
       "output_type": "stream",
       "stream": "stdout",
       "text": [
        "\n",
        "\n",
        "The stats for C=3\n",
        "(1, 7028)"
       ]
      },
      {
       "output_type": "stream",
       "stream": "stdout",
       "text": [
        "\n",
        "L2 Total :7028\n",
        "L2 Number non-zero :7028\n",
        "L2 Number features with all zero :0\n",
        "(1, 7028)"
       ]
      },
      {
       "output_type": "stream",
       "stream": "stdout",
       "text": [
        "\n",
        "L1 Total :7028\n",
        "L1 Number non-zero :1481\n",
        "L1 Number features with all zero :5547\n",
        "             precision    recall  f1-score   support\n",
        "\n",
        "        0.0       0.71      0.72      0.72       877\n",
        "        1.0       0.70      0.69      0.70       833\n",
        "\n",
        "avg / total       0.71      0.71      0.71      1710\n"
       ]
      },
      {
       "output_type": "stream",
       "stream": "stdout",
       "text": [
        "\n",
        "\n",
        "The stats for C=6\n",
        "(1, 7028)"
       ]
      },
      {
       "output_type": "stream",
       "stream": "stdout",
       "text": [
        "\n",
        "L2 Total :7028\n",
        "L2 Number non-zero :7028\n",
        "L2 Number features with all zero :0\n",
        "(1, 7028)"
       ]
      },
      {
       "output_type": "stream",
       "stream": "stdout",
       "text": [
        "\n",
        "L1 Total :7028\n",
        "L1 Number non-zero :1758\n",
        "L1 Number features with all zero :5270\n",
        "             precision    recall  f1-score   support\n",
        "\n",
        "        0.0       0.73      0.74      0.73       877\n",
        "        1.0       0.72      0.71      0.71       833\n",
        "\n",
        "avg / total       0.72      0.72      0.72      1710\n"
       ]
      },
      {
       "output_type": "stream",
       "stream": "stdout",
       "text": [
        "\n",
        "\n",
        "The stats for C=12\n",
        "(1, 7028)"
       ]
      },
      {
       "output_type": "stream",
       "stream": "stdout",
       "text": [
        "\n",
        "L2 Total :7028\n",
        "L2 Number non-zero :7028\n",
        "L2 Number features with all zero :0\n",
        "(1, 7028)"
       ]
      },
      {
       "output_type": "stream",
       "stream": "stdout",
       "text": [
        "\n",
        "L1 Total :7028\n",
        "L1 Number non-zero :2042\n",
        "L1 Number features with all zero :4986\n",
        "             precision    recall  f1-score   support\n",
        "\n",
        "        0.0       0.72      0.73      0.73       877\n",
        "        1.0       0.71      0.71      0.71       833\n",
        "\n",
        "avg / total       0.72      0.72      0.72      1710\n"
       ]
      },
      {
       "output_type": "stream",
       "stream": "stdout",
       "text": [
        "\n",
        "\n",
        "The stats for C=24\n",
        "(1, 7028)"
       ]
      },
      {
       "output_type": "stream",
       "stream": "stdout",
       "text": [
        "\n",
        "L2 Total :7028\n",
        "L2 Number non-zero :7028\n",
        "L2 Number features with all zero :0\n",
        "(1, 7028)"
       ]
      },
      {
       "output_type": "stream",
       "stream": "stdout",
       "text": [
        "\n",
        "L1 Total :7028\n",
        "L1 Number non-zero :2327\n",
        "L1 Number features with all zero :4701\n",
        "             precision    recall  f1-score   support\n",
        "\n",
        "        0.0       0.73      0.72      0.72       877\n",
        "        1.0       0.71      0.71      0.71       833\n",
        "\n",
        "avg / total       0.72      0.72      0.72      1710\n"
       ]
      },
      {
       "output_type": "stream",
       "stream": "stdout",
       "text": [
        "\n"
       ]
      },
      {
       "metadata": {},
       "output_type": "display_data",
       "png": "[encoded data removed]",
       "text": [
        "<matplotlib.figure.Figure at 0x102affa10>"
       ]
      },
      {
       "output_type": "stream",
       "stream": "stdout",
       "text": [
        "Cell processing complete.\n"
       ]
      }
     ],
     "prompt_number": 6
    },
    {
     "cell_type": "code",
     "collapsed": true,
     "input": [
      "def evaluate(train_data, train_labels, \n",
      "             cv_data, cv_labels,\n",
      "             test_data, test_labels,              \n",
      "             curr_predictor=None,\n",
      "             best_score=None,\n",
      "             best_predictor=None,\n",
      "             print_results=False):    \n",
      "    \n",
      "    tmp_predictor = curr_predictor \n",
      "    \n",
      "    curr_predictor.fit(train_data,train_labels)\n",
      "    cv_pred = curr_predictor.predict(cv_data)    \n",
      "    test_pred = curr_predictor.predict(test_data)\n",
      "    if print_results:\n",
      "        print \"\\nThe cv stats:\\n\"\n",
      "        print(classification_report(cv_labels, cv_pred))\n",
      "        \n",
      "        print \"The test results are:\\n\"\n",
      "        print(classification_report(test_labels, test_pred))\n",
      "        \n",
      "    curr_score = curr_predictor.score(test_data,test_labels)\n",
      "    if curr_score > best_score:\n",
      "        best_score = curr_score\n",
      "        best_predictor = tmp_predictor\n",
      "    \n",
      "    return best_score, best_predictor, curr_score\n",
      "print \"Cell processing complete.\""
     ],
     "language": "python",
     "metadata": {},
     "outputs": [
      {
       "output_type": "stream",
       "stream": "stdout",
       "text": [
        "Cell processing complete.\n"
       ]
      }
     ],
     "prompt_number": 7
    },
    {
     "cell_type": "code",
     "collapsed": false,
     "input": [
      "def find_optim_model_textual(train, train_labels, cv, cv_labels, test, test_labels, feature, vocab, print_results=False):\n",
      "    # This function finds the optimal classifier for each class (i.e. LR, KNN, BNB, and DT) and a set of \n",
      "    # configuration values (i.e. C for LR, n_neighbors for KNN, alpha for BNB, and max_depth for DT) by \n",
      "    # iterating through an array of config values and finding the optimal accuracy in the test data.\n",
      "    \n",
      "    # get the texts\n",
      "    train_data_text = []\n",
      "    cv_data_text = []\n",
      "    test_data_text = []\n",
      "    if feature == 'requester_subreddits_at_request':\n",
      "        for i in range(len(train_labels)):\n",
      "            train_data_text.append(string.join(train[i].get(feature),\" \"))\n",
      "        for i in range(len(cv_labels)):\n",
      "            cv_data_text.append(string.join(cv[i].get(feature),\" \"))\n",
      "        for i in range(len(test_labels)):\n",
      "            test_data_text.append(string.join(test[i].get(feature),\" \"))\n",
      "    else:\n",
      "        for i in range(len(train_labels)):\n",
      "            train_data_text.append(train[i].get(feature))\n",
      "        for i in range(len(cv_labels)):\n",
      "            cv_data_text.append(cv[i].get(feature))\n",
      "        for i in range(len(test_labels)):\n",
      "            test_data_text.append(test[i].get(feature))\n",
      "            \n",
      "    accuracy_LR = []\n",
      "    accuracy_BNB = []\n",
      "    accuracy_KNN = []\n",
      "    accuracy_DT = []\n",
      "    numVocab = []\n",
      "    \n",
      "    # iterate through all vocabulary sizes\n",
      "    for j in range(len(vocab)):\n",
      "        numVocab.append(len(vocab[j]))\n",
      "        vec_train = CountVectorizer(vocabulary=vocab[j],preprocessor=better_preprocessor)\n",
      "        tokenized_train_data = vec_train.fit_transform(train_data_text)\n",
      "\n",
      "        vec_cv = CountVectorizer(vocabulary=vocab[j],preprocessor=better_preprocessor)\n",
      "        tokenized_cv_data = vec_cv.fit_transform(cv_data_text)\n",
      "\n",
      "        vec_test = CountVectorizer(vocabulary=vocab[j],preprocessor=better_preprocessor)\n",
      "        tokenized_test_data = vec_test.fit_transform(test_data_text)\n",
      "\n",
      "        # for each given vocabulary, iterate through all possible Cs\n",
      "        C_val = [0.001, 0.01, 0.1, 0.2, 0.4, 0.8, 1, 2, 4, 8, 16]                \n",
      "        best_models= {'LR':None, 'KNN':None, 'BNB':None, 'DT':None}\n",
      "        best_scores = {'LR':0, 'KNN':0, 'BNB':0, 'DT':0}\n",
      "        \n",
      "        for i in range(len(C_val)):            \n",
      "            best_scores['LR'], best_models['LR'], _ = evaluate(tokenized_train_data, \n",
      "                                                            train_labels, \n",
      "                                                            tokenized_cv_data,\n",
      "                                                            cv_labels,\n",
      "                                                            tokenized_test_data,\n",
      "                                                            test_labels,                                                             \n",
      "                                                            curr_predictor=LogisticRegression(C=C_val[i]),\n",
      "                                                            best_score=best_scores['LR'],\n",
      "                                                            best_predictor=best_models['LR'],\n",
      "                                                            print_results=print_results)\n",
      "\n",
      "            #Bernoulli Naive Bayes section\n",
      "            if C_val[i] <= 1:\n",
      "                best_scores['BNB'], best_models['BNB'], _ = evaluate(tokenized_train_data, \n",
      "                                                                train_labels, \n",
      "                                                                tokenized_cv_data,\n",
      "                                                                cv_labels,\n",
      "                                                                tokenized_test_data,\n",
      "                                                                test_labels,                                                             \n",
      "                                                                curr_predictor=BernoulliNB(alpha=C_val[i]),\n",
      "                                                                best_score=best_scores['BNB'],\n",
      "                                                                best_predictor=best_models['BNB'],\n",
      "                                                                print_results=print_results)                \n",
      "\n",
      "            #KNN section\n",
      "            if C_val[i] >= 1:\n",
      "                best_scores['KNN'], best_models['KNN'], _ = evaluate(tokenized_train_data, \n",
      "                                                                train_labels, \n",
      "                                                                tokenized_cv_data,\n",
      "                                                                cv_labels,\n",
      "                                                                tokenized_test_data,\n",
      "                                                                test_labels,                                                             \n",
      "                                                                curr_predictor=KNeighborsClassifier(n_neighbors=int(C_val[i])),\n",
      "                                                                best_score=best_scores['KNN'],\n",
      "                                                                best_predictor=best_models['KNN'],\n",
      "                                                                 print_results=print_results)  \n",
      "\n",
      "            #DT section\n",
      "            if C_val[i] >= 1:\n",
      "                best_scores['DT'], best_models['DT'], _ = evaluate(tokenized_train_data, \n",
      "                                                                train_labels, \n",
      "                                                                tokenized_cv_data,\n",
      "                                                                cv_labels,\n",
      "                                                                tokenized_test_data,\n",
      "                                                                test_labels,                                                             \n",
      "                                                                curr_predictor=DecisionTreeClassifier(max_depth=int(C_val[i])),\n",
      "                                                                best_score=best_scores['DT'],\n",
      "                                                                best_predictor=best_models['DT'],\n",
      "                                                                print_results=print_results) \n",
      "                        \n",
      "        accuracy_LR.append(best_scores['LR'])\n",
      "        accuracy_BNB.append(best_scores['BNB'])\n",
      "        accuracy_KNN.append(best_scores['KNN'])\n",
      "        accuracy_DT.append(best_scores['DT'])\n",
      "    \n",
      "    plt.figure(figsize=(10, 5))\n",
      "    plt.plot(numVocab,accuracy_LR,'y-')\n",
      "    plt.plot(numVocab,accuracy_BNB,'b-')\n",
      "    plt.plot(numVocab,accuracy_KNN,'g-')\n",
      "    plt.plot(numVocab,accuracy_DT,'r-')\n",
      "    plt.legend(['LR', 'BNB', 'KNN', 'DT'])\n",
      "    plt.xlabel('Number of vocabularies')\n",
      "    plt.ylabel('Best accuracy over all configs')\n",
      "    plt.show()\n",
      "    \n",
      "    return tokenized_train_data.todense(), tokenized_cv_data.todense(), tokenized_test_data.todense(), best_models\n",
      "print \"Cell processing complete.\""
     ],
     "language": "python",
     "metadata": {},
     "outputs": [
      {
       "output_type": "stream",
       "stream": "stdout",
       "text": [
        "Cell processing complete.\n"
       ]
      }
     ],
     "prompt_number": 8
    },
    {
     "cell_type": "code",
     "collapsed": false,
     "input": [
      "feature = 'request_title'\n",
      "print feature + \"\\n\"\n",
      "train_data_title, cv_data_title, test_data_title, best_models_title = find_optim_model_textual(train_up, \n",
      "                    train_up_labels, cv_up, cv_up_labels, test_up, test_up_labels, feature, ValuableVocab_Title)\n",
      "print \"Cell processing complete.\""
     ],
     "language": "python",
     "metadata": {},
     "outputs": [
      {
       "output_type": "stream",
       "stream": "stdout",
       "text": [
        "request_title\n",
        "\n"
       ]
      },
      {
       "metadata": {},
       "output_type": "display_data",
       "png": "[encoded data removed]",
       "text": [
        "<matplotlib.figure.Figure at 0x10f002110>"
       ]
      },
      {
       "output_type": "stream",
       "stream": "stdout",
       "text": [
        "Cell processing complete.\n"
       ]
      }
     ],
     "prompt_number": 16
    },
    {
     "cell_type": "code",
     "collapsed": false,
     "input": [
      "feature = 'request_text_edit_aware'\n",
      "print feature + \"\\n\"\n",
      "train_data_text, cv_data_text, test_data_text, best_models_text = find_optim_model_textual(train_up, \n",
      "                    train_up_labels, cv_up, cv_up_labels, test_up, test_up_labels, feature, ValuableVocab_Text)\n",
      "print \"Cell processing complete.\""
     ],
     "language": "python",
     "metadata": {},
     "outputs": [
      {
       "output_type": "stream",
       "stream": "stdout",
       "text": [
        "request_text_edit_aware\n",
        "\n"
       ]
      },
      {
       "metadata": {},
       "output_type": "display_data",
       "png": "[encoded data removed]",
       "text": [
        "<matplotlib.figure.Figure at 0x118ae7a10>"
       ]
      },
      {
       "output_type": "stream",
       "stream": "stdout",
       "text": [
        "Cell processing complete.\n"
       ]
      }
     ],
     "prompt_number": 17
    },
    {
     "cell_type": "code",
     "collapsed": false,
     "input": [
      "feature = 'requester_subreddits_at_request'\n",
      "print feature + \"\\n\"\n",
      "train_data_sr, cv_data_sr, test_data_sr, best_models_sr = find_optim_model_textual(train_up, \n",
      "                    train_up_labels, cv_up, cv_up_labels, test_up, test_up_labels, feature,ValuableVocab_Subreddits)\n",
      "print \"Cell processing complete.\""
     ],
     "language": "python",
     "metadata": {
      "scrolled": true
     },
     "outputs": [
      {
       "output_type": "stream",
       "stream": "stdout",
       "text": [
        "requester_subreddits_at_request\n",
        "\n"
       ]
      },
      {
       "metadata": {},
       "output_type": "display_data",
       "png": "[encoded data removed]",
       "text": [
        "<matplotlib.figure.Figure at 0x102b31510>"
       ]
      },
      {
       "output_type": "stream",
       "stream": "stdout",
       "text": [
        "Cell processing complete.\n"
       ]
      }
     ],
     "prompt_number": 18
    },
    {
     "cell_type": "markdown",
     "metadata": {},
     "source": [
      "From the information above, we conclude that we should:\n",
      "* Use KNN or LR for **requester_subreddits_at_request**, with a vocabulary of 1500 ~ 2000\n",
      "* Use KNN for **request_text_edit_aware**, and the performance plateaus from 3000 vocabularies\n",
      "* Use KNN for **request_title** with between 1500 and 2000 vocabularies\n",
      "\n",
      "## Next, we will look at numerical features\n",
      "\n",
      "First, some helper functions."
     ]
    },
    {
     "cell_type": "code",
     "collapsed": false,
     "input": [
      "def find_optim_model_numerical(train, train_labels, cv, cv_labels, test, test_labels, print_results=False):\n",
      "    # This function finds the optimal classifier for each class (i.e. LR, KNN, GNB, and DT) and a set of \n",
      "    # configuration values (i.e. C for LR, n_neighbors for KNN, and max_depth for DT) by \n",
      "    # iterating through an array of config values and finding the optimal accuracy in the test data.\n",
      "    \n",
      "    # This function also output the best score and best classifier out of the four classes for later use.\n",
      "            \n",
      "    accuracy_LR = []\n",
      "    config_LR = []\n",
      "    accuracy_GNB = []\n",
      "    config_GNB = []\n",
      "    accuracy_KNN = []\n",
      "    config_KNN = []\n",
      "    accuracy_DT = []\n",
      "    config_DT = []\n",
      "    best_clf = []\n",
      "    best_config = 0\n",
      "    best_score = 0\n",
      "    \n",
      "    best_models = dict(LR=None, GNB=None, KNN=None, DT=None)\n",
      "    best_scores = dict(LR=0, GNB=0, KNN=0, DT=0)  \n",
      "    \n",
      "    # iterate through all possible Cs\n",
      "    C_val = [0.0001, 0.001, 0.01, 0.1, 0.2, 0.4, 0.8, 1, 2, 4, 8, 16, 25, 50]\n",
      "    for i in range(len(C_val)):\n",
      "\n",
      "        #Logistic Regression section\n",
      "        best_scores['LR'], best_models['LR'], lr_score = evaluate(train, train_labels, \n",
      "                                                            cv, cv_labels,\n",
      "                                                            test, test_labels,                                                             \n",
      "                                                            curr_predictor=LogisticRegression(C=C_val[i]),\n",
      "                                                            best_score=best_scores['LR'],\n",
      "                                                            best_predictor=best_models['LR'],\n",
      "                                                            print_results=print_results)\n",
      "        \n",
      "        config_LR.append(C_val[i])\n",
      "        accuracy_LR.append(lr_score)\n",
      "        if best_score < best_scores['LR']:\n",
      "            best_clf = best_models['LR']\n",
      "            best_config = C_val[i]\n",
      "            best_score = best_scores['LR']\n",
      "        \n",
      "        \n",
      "        #Gaussian Naive Bayes section\n",
      "        best_scores['GNB'], best_models['GNB'], gnb_score = evaluate(train, train_labels, \n",
      "                                                            cv, cv_labels,\n",
      "                                                            test, test_labels,                                                             \n",
      "                                                            curr_predictor=GaussianNB(),\n",
      "                                                            best_score=best_scores['GNB'],\n",
      "                                                            best_predictor=best_models['GNB'],\n",
      "                                                            print_results=print_results)\n",
      "        \n",
      "        config_GNB.append(C_val[i])\n",
      "        accuracy_GNB.append(gnb_score)\n",
      "        if best_score < best_scores['GNB']:\n",
      "            best_clf = best_models['GNB']\n",
      "            best_config = C_val[i]\n",
      "            best_score = best_scores['GNB']\n",
      "            \n",
      "        #KNN section\n",
      "        best_scores['KNN'], best_models['KNN'], knn_score = evaluate(train, train_labels, \n",
      "                                                            cv, cv_labels,\n",
      "                                                            test, test_labels,                                                             \n",
      "                                                            curr_predictor=KNeighborsClassifier(n_neighbors=int(math.ceil(C_val[i] * 2))),\n",
      "                                                            best_score=best_scores['KNN'],\n",
      "                                                            best_predictor=best_models['KNN'],\n",
      "                                                            print_results=print_results)\n",
      "        config_KNN.append(int(math.ceil(C_val[i] * 2)))\n",
      "        accuracy_KNN.append(knn_score)\n",
      "        if best_score < best_scores['KNN']:\n",
      "            best_clf = best_models['KNN']\n",
      "            best_config = best_models['KNN'].n_neighbors\n",
      "            best_score = best_scores['KNN']\n",
      "            \n",
      "        #DT section\n",
      "        best_scores['DT'], best_models['DT'], dt_score = evaluate(train, train_labels, \n",
      "                                                            cv, cv_labels,\n",
      "                                                            test, test_labels,                                                             \n",
      "                                                            curr_predictor=DecisionTreeClassifier(max_depth=int(math.ceil(C_val[i] * 2))),\n",
      "                                                            best_score=best_scores['DT'],\n",
      "                                                            best_predictor=best_models['DT'],\n",
      "                                                            print_results=print_results)\n",
      "        \n",
      "        accuracy_DT.append(dt_score)\n",
      "        config_DT.append(int(math.ceil(C_val[i] * 2)))                \n",
      "        if best_score < best_scores['DT']:\n",
      "            best_clf = best_models['DT']\n",
      "            best_config = best_models['DT'].max_depth\n",
      "            best_score = dt_score        \n",
      "        \n",
      "    plt.figure(figsize=(10, 5))\n",
      "    plt.plot(config_LR,accuracy_LR,'y-', )\n",
      "    plt.plot(config_GNB,accuracy_GNB,'b-')\n",
      "    plt.plot(config_KNN,accuracy_KNN,'g-')\n",
      "    plt.plot(config_DT,accuracy_DT,'r-')\n",
      "    plt.legend(['LR', 'GNB', 'KNN', 'DT'])\n",
      "    plt.xlabel('Configs - c for LR, n_neighbor for KNN, max_depth for DT')\n",
      "    plt.ylabel('Accuracy Score')\n",
      "    plt.show()\n",
      "    return best_clf, best_config, best_score, best_models, best_scores\n",
      "print \"Cell processing complete.\""
     ],
     "language": "python",
     "metadata": {},
     "outputs": [
      {
       "output_type": "stream",
       "stream": "stdout",
       "text": [
        "Cell processing complete.\n"
       ]
      }
     ],
     "prompt_number": 20
    },
    {
     "cell_type": "code",
     "collapsed": true,
     "input": [
      "def evaluate_new_feature(train_data, train_labels, train_mat, cv_data, cv_labels, cv_mat, test_data, \n",
      "                         test_labels, test_mat, feature, prev_best_classifier=None, prev_best_score=None, \n",
      "                         prev_best_models=None, prev_best_scores=None, current_features=[], print_results=False):\n",
      "    # This function takes in the current features and a new feature (param feature), compute the accuracy score\n",
      "    # of the best classifiers out of (LR, KNN, GNB, and DT) with the new feature, compare it with the best \n",
      "    # accuracy score without the new feature.\n",
      "    \n",
      "    # If the new feature leads to an improvement, the function accepts the new feature and add it to the list of \n",
      "    # features, also updating the classifiers. Otherwise, it will reject it and keep existing features.\n",
      "\n",
      "    train_temp = []\n",
      "    cv_temp = []\n",
      "    test_temp = []\n",
      "    \n",
      "    for i in range(len(train_labels)):\n",
      "        train_temp.append((train_data[i].get(feature)))\n",
      "\n",
      "    for i in range(len(cv_labels)):\n",
      "        cv_temp.append((cv_data[i].get(feature)))\n",
      "\n",
      "    for i in range(len(test_labels)):\n",
      "        test_temp.append((test_data[i].get(feature)))\n",
      "    \n",
      "    train_mat_tmp = np.c_[train_mat,train_temp]\n",
      "    cv_mat_tmp = np.c_[cv_mat,cv_temp]\n",
      "    test_mat_tmp = np.c_[test_mat,test_temp]\n",
      "\n",
      "    best_clf, best_config, best_score, best_models, best_scores = find_optim_model_numerical(train_mat_tmp, \n",
      "                                train_labels, cv_mat_tmp, cv_labels, test_mat_tmp, test_labels, \n",
      "                                print_results=print_results)\n",
      "            \n",
      "    if best_score >= prev_best_score:\n",
      "        print best_score\n",
      "        current_features.append(feature)\n",
      "        return train_mat_tmp, cv_mat_tmp, test_mat_tmp, best_clf, best_score, best_models, best_scores, current_features\n",
      "    else:\n",
      "        print prev_best_score\n",
      "        return train_mat, cv_mat, test_mat, prev_best_classifier, prev_best_score, prev_best_models, prev_best_scores, current_features\n",
      "print \"Cell processing complete.\""
     ],
     "language": "python",
     "metadata": {},
     "outputs": [
      {
       "output_type": "stream",
       "stream": "stdout",
       "text": [
        "Cell processing complete.\n"
       ]
      }
     ],
     "prompt_number": 21
    },
    {
     "cell_type": "heading",
     "level": 3,
     "metadata": {},
     "source": [
      "This is where we start iteratively adding and checking if a feature leads to a performance gain on the test set"
     ]
    },
    {
     "cell_type": "code",
     "collapsed": false,
     "input": [
      "features = ['requester_account_age_in_days_at_request']\n",
      "\n",
      "train_age = []\n",
      "cv_age = []\n",
      "test_age = []\n",
      "\n",
      "for i in range(len(train_up_labels)):\n",
      "    train_age.append((train_up[i].get(features[0])))\n",
      "\n",
      "for i in range(len(cv_up_labels)):\n",
      "    cv_age.append((cv_up[i].get(features[0])))\n",
      "\n",
      "for i in range(len(test_up_labels)):\n",
      "    test_age.append((test_up[i].get(features[0])))\n",
      "\n",
      "feature = 'requester_days_since_first_post_on_raop_at_request'\n",
      "\n",
      "# myan: initialize\n",
      "best_score = 0\n",
      "best_numerical_classifier=None\n",
      "best_models = dict()\n",
      "best_scores = dict()\n",
      "\n",
      "train_data_plus, cv_data_plus, test_data_plus, best_numerical_classifier, best_score, best_models, best_scores, features = evaluate_new_feature(train_up, \n",
      "                    train_up_labels, train_age, cv_up, cv_up_labels, cv_age, test_up, test_up_labels, test_age, feature, \n",
      "                    prev_best_classifier=best_numerical_classifier, \n",
      "                    prev_best_score=best_score,\n",
      "                    prev_best_models=best_models,\n",
      "                    prev_best_scores=best_scores,\n",
      "                    current_features=features)\n",
      "\n",
      "print features\n",
      "print test_data_plus.shape\n",
      "print \"Cell processing complete.\""
     ],
     "language": "python",
     "metadata": {},
     "outputs": [
      {
       "metadata": {},
       "output_type": "display_data",
       "png": "[encoded data removed]",
       "text": [
        "<matplotlib.figure.Figure at 0x11083ed10>"
       ]
      },
      {
       "output_type": "stream",
       "stream": "stdout",
       "text": [
        "0.750731421884\n",
        "['requester_account_age_in_days_at_request', 'requester_days_since_first_post_on_raop_at_request']\n",
        "(1709, 2)\n",
        "Cell processing complete.\n"
       ]
      }
     ],
     "prompt_number": 22
    },
    {
     "cell_type": "code",
     "collapsed": false,
     "input": [
      "feature = 'requester_number_of_comments_at_request'\n",
      "print feature + \"\\n\"\n",
      "train_data_plus, cv_data_plus, test_data_plus, best_numerical_classifier, best_score, best_models, best_scores, features = evaluate_new_feature(train_up, \n",
      "                    train_up_labels, train_data_plus, cv_up, cv_up_labels, cv_data_plus, test_up, test_up_labels, test_data_plus, feature, \n",
      "                    prev_best_classifier=best_numerical_classifier, \n",
      "                    prev_best_score=best_score,\n",
      "                    prev_best_models=best_models,\n",
      "                    prev_best_scores=best_scores,\n",
      "                    current_features=features)\n",
      "print features\n",
      "print \"Cell processing complete.\""
     ],
     "language": "python",
     "metadata": {
      "scrolled": false
     },
     "outputs": [
      {
       "output_type": "stream",
       "stream": "stdout",
       "text": [
        "requester_number_of_comments_at_request\n",
        "\n"
       ]
      },
      {
       "metadata": {},
       "output_type": "display_data",
       "png": "[encoded data removed]",
       "text": [
        "<matplotlib.figure.Figure at 0x11081aa10>"
       ]
      },
      {
       "output_type": "stream",
       "stream": "stdout",
       "text": [
        "0.759508484494\n",
        "['requester_account_age_in_days_at_request', 'requester_days_since_first_post_on_raop_at_request', 'requester_number_of_comments_at_request']\n",
        "Cell processing complete.\n"
       ]
      }
     ],
     "prompt_number": 23
    },
    {
     "cell_type": "code",
     "collapsed": false,
     "input": [
      "feature = 'requester_upvotes_minus_downvotes_at_request'\n",
      "print feature + \"\\n\"\n",
      "train_data_plus, cv_data_plus, test_data_plus, best_numerical_classifier, best_score, best_models, best_scores, features = evaluate_new_feature(train_up, \n",
      "                    train_up_labels, train_data_plus, cv_up, cv_up_labels, cv_data_plus, test_up, test_up_labels, test_data_plus, feature, \n",
      "                    prev_best_classifier=best_numerical_classifier, \n",
      "                    prev_best_score=best_score,\n",
      "                    prev_best_models=best_models,\n",
      "                    prev_best_scores=best_scores,\n",
      "                    current_features=features)\n",
      "print features\n",
      "print \"Cell processing complete.\""
     ],
     "language": "python",
     "metadata": {},
     "outputs": [
      {
       "output_type": "stream",
       "stream": "stdout",
       "text": [
        "requester_upvotes_minus_downvotes_at_request\n",
        "\n"
       ]
      },
      {
       "metadata": {},
       "output_type": "display_data",
       "png": "[encoded data removed]",
       "text": [
        "<matplotlib.figure.Figure at 0x10fbfaed0>"
       ]
      },
      {
       "output_type": "stream",
       "stream": "stdout",
       "text": [
        "0.759508484494\n",
        "['requester_account_age_in_days_at_request', 'requester_days_since_first_post_on_raop_at_request', 'requester_number_of_comments_at_request']\n",
        "Cell processing complete.\n"
       ]
      }
     ],
     "prompt_number": 24
    },
    {
     "cell_type": "code",
     "collapsed": false,
     "input": [
      "feature = 'requester_number_of_subreddits_at_request'\n",
      "\n",
      "print feature + \"\\n\"\n",
      "train_data_plus, cv_data_plus, test_data_plus, best_numerical_classifier, best_score, best_models, best_scores, features = evaluate_new_feature(train_up, \n",
      "                    train_up_labels, train_data_plus, cv_up, cv_up_labels, cv_data_plus, test_up, test_up_labels, test_data_plus, feature, \n",
      "                    prev_best_classifier=best_numerical_classifier, \n",
      "                    prev_best_score=best_score,\n",
      "                    prev_best_models=best_models,\n",
      "                    prev_best_scores=best_scores,\n",
      "                    current_features=features)\n",
      "print features\n",
      "print \"Cell processing complete.\""
     ],
     "language": "python",
     "metadata": {},
     "outputs": [
      {
       "output_type": "stream",
       "stream": "stdout",
       "text": [
        "requester_number_of_subreddits_at_request\n",
        "\n"
       ]
      },
      {
       "metadata": {},
       "output_type": "display_data",
       "png": "[encoded data removed]",
       "text": [
        "<matplotlib.figure.Figure at 0x10fae2910>"
       ]
      },
      {
       "output_type": "stream",
       "stream": "stdout",
       "text": [
        "0.760678759508\n",
        "['requester_account_age_in_days_at_request', 'requester_days_since_first_post_on_raop_at_request', 'requester_number_of_comments_at_request', 'requester_number_of_subreddits_at_request']\n",
        "Cell processing complete.\n"
       ]
      }
     ],
     "prompt_number": 25
    },
    {
     "cell_type": "heading",
     "level": 3,
     "metadata": {},
     "source": [
      "Observe a big performance gain by using the timestamp information"
     ]
    },
    {
     "cell_type": "code",
     "collapsed": false,
     "input": [
      "feature = 'unix_timestamp_of_request_utc'\n",
      "\n",
      "print feature + \"\\n\"\n",
      "train_data_plus, cv_data_plus, test_data_plus, best_numerical_classifier, best_score, best_models, best_scores, features = evaluate_new_feature(train_up, \n",
      "                    train_up_labels, train_data_plus, cv_up, cv_up_labels, cv_data_plus, test_up, test_up_labels, test_data_plus, feature, \n",
      "                    prev_best_classifier=best_numerical_classifier, \n",
      "                    prev_best_score=best_score,\n",
      "                    prev_best_models=best_models,\n",
      "                    prev_best_scores=best_scores,\n",
      "                    current_features=features)\n",
      "print features\n",
      "print \"Cell processing complete.\""
     ],
     "language": "python",
     "metadata": {},
     "outputs": [
      {
       "output_type": "stream",
       "stream": "stdout",
       "text": [
        "unix_timestamp_of_request_utc\n",
        "\n"
       ]
      },
      {
       "metadata": {},
       "output_type": "display_data",
       "png": "[encoded data removed]",
       "text": [
        "<matplotlib.figure.Figure at 0x105d53ad0>"
       ]
      },
      {
       "output_type": "stream",
       "stream": "stdout",
       "text": [
        "0.797542422469\n",
        "['requester_account_age_in_days_at_request', 'requester_days_since_first_post_on_raop_at_request', 'requester_number_of_comments_at_request', 'requester_number_of_subreddits_at_request', 'unix_timestamp_of_request_utc']\n",
        "Cell processing complete.\n"
       ]
      }
     ],
     "prompt_number": 26
    },
    {
     "cell_type": "heading",
     "level": 3,
     "metadata": {},
     "source": [
      "Test if the length of the text matters"
     ]
    },
    {
     "cell_type": "code",
     "collapsed": false,
     "input": [
      "for entry in train_up:\n",
      "    entry['length_of_text'] = len(entry['request_text_edit_aware'].split())    \n",
      "    \n",
      "for entry in cv_up:\n",
      "    entry['length_of_text'] = len(entry['request_text_edit_aware'].split())        \n",
      "    \n",
      "for entry in test_up:\n",
      "    entry['length_of_text'] = len(entry['request_text_edit_aware'].split())        \n",
      "\n",
      "\n",
      "feature = 'length_of_text'\n",
      "\n",
      "print feature + \"\\n\"\n",
      "train_data_plus, cv_data_plus, test_data_plus, best_numerical_classifier, best_score, best_models, best_scores, features = evaluate_new_feature(train_up, \n",
      "                    train_up_labels, train_data_plus, cv_up, cv_up_labels, cv_data_plus, test_up, test_up_labels, test_data_plus, feature, \n",
      "                    prev_best_classifier=best_numerical_classifier, \n",
      "                    prev_best_score=best_score,\n",
      "                    prev_best_models=best_models,\n",
      "                    prev_best_scores=best_scores,\n",
      "                    current_features=features)\n",
      "train_data_plus.shape\n",
      "print features\n",
      "print \"Cell processing complete.\""
     ],
     "language": "python",
     "metadata": {},
     "outputs": [
      {
       "output_type": "stream",
       "stream": "stdout",
       "text": [
        "length_of_text\n",
        "\n"
       ]
      },
      {
       "metadata": {},
       "output_type": "display_data",
       "png": "[encoded data removed]",
       "text": [
        "<matplotlib.figure.Figure at 0x110eb9110>"
       ]
      },
      {
       "output_type": "stream",
       "stream": "stdout",
       "text": [
        "0.797542422469\n",
        "['requester_account_age_in_days_at_request', 'requester_days_since_first_post_on_raop_at_request', 'requester_number_of_comments_at_request', 'requester_number_of_subreddits_at_request', 'unix_timestamp_of_request_utc']\n",
        "Cell processing complete.\n"
       ]
      }
     ],
     "prompt_number": 27
    },
    {
     "cell_type": "heading",
     "level": 3,
     "metadata": {},
     "source": [
      "Test if http links help"
     ]
    },
    {
     "cell_type": "code",
     "collapsed": false,
     "input": [
      "for entry in train_up:\n",
      "    entry['has_link'] = 'http:' in entry['request_text_edit_aware'] or 'https:' in entry['request_text_edit_aware']\n",
      "    \n",
      "for entry in cv_up:\n",
      "    entry['has_link'] = 'http:' in entry['request_text_edit_aware'] or 'https:' in entry['request_text_edit_aware']\n",
      "    \n",
      "for entry in test_up:\n",
      "    entry['has_link'] = 'http:' in entry['request_text_edit_aware'] or 'https:' in entry['request_text_edit_aware']\n",
      "\n",
      "\n",
      "feature = 'has_link'\n",
      "\n",
      "print feature + \"\\n\"\n",
      "train_data_plus, cv_data_plus, test_data_plus, best_numerical_classifier, best_score, best_models, best_scores, features = evaluate_new_feature(train_up, \n",
      "                    train_up_labels, train_data_plus, cv_up, cv_up_labels, cv_data_plus, test_up, test_up_labels, test_data_plus, feature, \n",
      "                    prev_best_classifier=best_numerical_classifier, \n",
      "                    prev_best_score=best_score,\n",
      "                    prev_best_models=best_models,\n",
      "                    prev_best_scores=best_scores,\n",
      "                    current_features=features)\n",
      "print features\n",
      "print \"Cell processing complete.\""
     ],
     "language": "python",
     "metadata": {},
     "outputs": [
      {
       "output_type": "stream",
       "stream": "stdout",
       "text": [
        "has_link\n",
        "\n"
       ]
      },
      {
       "metadata": {},
       "output_type": "display_data",
       "png": "[encoded data removed]",
       "text": [
        "<matplotlib.figure.Figure at 0x10ffb3d50>"
       ]
      },
      {
       "output_type": "stream",
       "stream": "stdout",
       "text": [
        "0.797542422469\n",
        "['requester_account_age_in_days_at_request', 'requester_days_since_first_post_on_raop_at_request', 'requester_number_of_comments_at_request', 'requester_number_of_subreddits_at_request', 'unix_timestamp_of_request_utc']\n",
        "Cell processing complete.\n"
       ]
      }
     ],
     "prompt_number": 28
    },
    {
     "cell_type": "markdown",
     "metadata": {},
     "source": [
      "# Ready to Make a Submission Now\n",
      "\n",
      "We are now at the stage where we feel ready to put everything back together. "
     ]
    },
    {
     "cell_type": "code",
     "collapsed": false,
     "input": [
      "#make four models (one from title, test, subreddit, and numerical) and see if ensemble is better\n",
      "\n",
      "print \"For text we have this many features:\", str(len(ValuableVocab_Text[4]))\n",
      "print \"\\n For the title we have this many features:\", str(len(ValuableVocab_Title[5]))\n",
      "\n",
      "#get the data again\n",
      "train_data_text = []\n",
      "cv_data_text = []\n",
      "test_data_text = []\n",
      "train_data_title = []\n",
      "cv_data_title = []\n",
      "test_data_title = []\n",
      "train_data_sr = []\n",
      "cv_data_sr = []\n",
      "test_data_sr = []\n",
      "    \n",
      "feature = 'request_text_edit_aware'    \n",
      "for i in range(len(train_up_labels)):\n",
      "    train_data_text.append(train_up[i].get(feature))\n",
      "\n",
      "for i in range(len(cv_up_labels)):\n",
      "    cv_data_text.append(cv_up[i].get(feature))\n",
      "\n",
      "for i in range(len(test_up_labels)):\n",
      "    test_data_text.append(test_up[i].get(feature))\n",
      "\n",
      "feature = 'request_title'    \n",
      "for i in range(len(train_up_labels)):\n",
      "    train_data_title.append(train_up[i].get(feature))\n",
      "\n",
      "for i in range(len(cv_up_labels)):\n",
      "    cv_data_title.append(cv_up[i].get(feature))\n",
      "\n",
      "for i in range(len(test_up_labels)):\n",
      "    test_data_title.append(test_up[i].get(feature))\n",
      "\n",
      "feature = 'requester_subreddits_at_request'\n",
      "for i in range(len(train_up_labels)):\n",
      "    train_data_sr.append(string.join(train_up[i].get(feature),\" \"))\n",
      "for i in range(len(cv_up_labels)):\n",
      "    cv_data_sr.append(string.join(cv_up[i].get(feature),\" \"))\n",
      "for i in range(len(test_up_labels)):\n",
      "    test_data_sr.append(string.join(test_up[i].get(feature),\" \"))    \n",
      "\n",
      "#vectorize the title with the right number of features\n",
      "vec_train_title = CountVectorizer(vocabulary=ValuableVocab_Title[5],preprocessor=better_preprocessor)\n",
      "tokenized_train_data_title = vec_train_title.fit_transform(train_data_title)\n",
      "\n",
      "vec_cv_title = CountVectorizer(vocabulary=ValuableVocab_Title[5],preprocessor=better_preprocessor)\n",
      "tokenized_cv_data_title = vec_cv_title.fit_transform(cv_data_title)\n",
      "\n",
      "vec_test_title = CountVectorizer(vocabulary=ValuableVocab_Title[5],preprocessor=better_preprocessor)\n",
      "tokenized_test_data_title = vec_test_title.fit_transform(test_data_title)\n",
      "\n",
      "#vectorize the text with the right number of features\n",
      "vec_train_text = CountVectorizer(vocabulary=ValuableVocab_Text[4],preprocessor=better_preprocessor)\n",
      "tokenized_train_data_text = vec_train_text.fit_transform(train_data_text)\n",
      "\n",
      "vec_cv_text = CountVectorizer(vocabulary=ValuableVocab_Text[4],preprocessor=better_preprocessor)\n",
      "tokenized_cv_data_text = vec_cv_text.fit_transform(cv_data_text)\n",
      "\n",
      "vec_test_text = CountVectorizer(vocabulary=ValuableVocab_Text[4],preprocessor=better_preprocessor)\n",
      "tokenized_test_data_text = vec_test_text.fit_transform(test_data_text)\n",
      "\n",
      "#vectorize the subreddits with the right number of features\n",
      "\n",
      "vec_train_sr = CountVectorizer(vocabulary=ValuableVocab_Subreddits[6],preprocessor=better_preprocessor)\n",
      "tokenized_train_data_sr = vec_train_sr.fit_transform(train_data_sr)\n",
      "\n",
      "vec_cv_sr = CountVectorizer(vocabulary=ValuableVocab_Subreddits[6],preprocessor=better_preprocessor)\n",
      "tokenized_cv_data_sr = vec_cv_sr.fit_transform(cv_data_sr)\n",
      "\n",
      "vec_test_sr = CountVectorizer(vocabulary=ValuableVocab_Subreddits[6],preprocessor=better_preprocessor)\n",
      "tokenized_test_data_sr = vec_test_sr.fit_transform(test_data_sr)\n",
      "\n",
      "\n",
      "######REQUEST TEXT EDIT AWARE#######\n",
      "feature = 'request_text_edit_aware'\n",
      "print feature + \"\\n\"\n",
      "\n",
      "KNN_train_text = KNeighborsClassifier(n_neighbors = 2)\n",
      "KNN_train_text.fit(tokenized_train_data_text,train_up_labels)\n",
      "\n",
      "cv_pred = KNN_train_text.predict(tokenized_cv_data_text)\n",
      "\n",
      "print \"For KNN cv :\\n\"\n",
      "print(classification_report(cv_up_labels, cv_pred))\n",
      "\n",
      "test_pred = KNN_train_text.predict(tokenized_test_data_text)\n",
      "\n",
      "print \"For KNN test :\\n\"\n",
      "print(classification_report(test_up_labels, test_pred))\n",
      "\n",
      "\n",
      "######REQUEST TITLE#######\n",
      "feature = 'request_title'\n",
      "print feature + \"\\n\"\n",
      "\n",
      "KNN_train_title = KNeighborsClassifier(n_neighbors = 2)\n",
      "KNN_train_title.fit(tokenized_train_data_title,train_up_labels)\n",
      "\n",
      "cv_pred = KNN_train_title.predict(tokenized_cv_data_title)\n",
      "\n",
      "print \"For KNN cv :\\n\"\n",
      "print(classification_report(cv_up_labels, cv_pred))\n",
      "\n",
      "test_pred = KNN_train_title.predict(tokenized_test_data_title)\n",
      "\n",
      "print \"For KNN test :\\n\"\n",
      "print(classification_report(test_up_labels, test_pred))\n",
      "    \n",
      "######SUBREDDITS SUBSCRIBED#########\n",
      "\n",
      "feature = 'requester_subreddits_at_request'\n",
      "print feature + \"\\n\"\n",
      "\n",
      "LR_train_subreddit = LogisticRegression(C = 8)\n",
      "LR_train_subreddit.fit(tokenized_train_data_sr,train_up_labels)\n",
      "\n",
      "cv_pred = LR_train_subreddit.predict(tokenized_cv_data_sr)\n",
      "\n",
      "print \"For LR cv :\\n\"\n",
      "print(classification_report(cv_up_labels, cv_pred))\n",
      "\n",
      "test_pred = LR_train_subreddit.predict(tokenized_test_data_sr)\n",
      "\n",
      "print \"For LR test :\\n\"\n",
      "print(classification_report(test_up_labels, test_pred))\n",
      "\n",
      "\n",
      "#######NUMERICAL PROPERTIES#########\n",
      "best_numerical_classifier.fit(train_data_plus,train_up_labels)\n",
      "\n",
      "cv_pred = best_numerical_classifier.predict(cv_data_plus)\n",
      "\n",
      "print \"\\nFor DT cv with max depth of 32:\\n\"\n",
      "print(classification_report(cv_up_labels, cv_pred))\n",
      "\n",
      "test_pred = best_numerical_classifier.predict(test_data_plus)\n",
      "\n",
      "print \"The test results are:\\n\"\n",
      "print(classification_report(test_up_labels, test_pred))\n",
      "\n",
      "#####ENSEMBLE VIA PROBABILITY #######\n",
      "train_text_probability = KNN_train_text.predict_proba(tokenized_train_data_text)\n",
      "cv_text_probability = KNN_train_text.predict_proba(tokenized_cv_data_text)\n",
      "test_text_probability = KNN_train_text.predict_proba(tokenized_test_data_text)\n",
      "\n",
      "train_title_probability = KNN_train_title.predict_proba(tokenized_train_data_title)\n",
      "cv_title_probability = KNN_train_title.predict_proba(tokenized_cv_data_title)\n",
      "test_title_probability = KNN_train_title.predict_proba(tokenized_test_data_title)\n",
      "\n",
      "train_sr_probability = LR_train_subreddit.predict_proba(tokenized_train_data_sr)\n",
      "cv_sr_probability = LR_train_subreddit.predict_proba(tokenized_cv_data_sr)\n",
      "test_sr_probability = LR_train_subreddit.predict_proba(tokenized_test_data_sr)\n",
      "\n",
      "train_num_probability = best_numerical_classifier.predict_proba(train_data_plus)\n",
      "cv_num_probability = best_numerical_classifier.predict_proba(cv_data_plus)\n",
      "test_num_probability = best_numerical_classifier.predict_proba(test_data_plus)\n",
      "\n",
      "train_ensemble_prob = np.c_[train_text_probability,train_title_probability,\n",
      "                                 train_sr_probability,train_num_probability]\n",
      "cv_ensemble_prob = np.c_[cv_text_probability,cv_title_probability,\n",
      "                              cv_sr_probability,cv_num_probability]\n",
      "test_ensemble_prob = np.c_[test_text_probability,test_title_probability,\n",
      "                                test_sr_probability,test_num_probability]\n",
      "\n",
      "print \"Ensemble models!!!\\n\\n\"\n",
      "\n",
      "best_clf, best_config, best_score, _, _ = find_optim_model_numerical(train_ensemble_prob, \n",
      "                           train_up_labels, cv_ensemble_prob, cv_up_labels, \n",
      "                           test_ensemble_prob, test_up_labels)\n",
      "\n",
      "print best_clf\n",
      "print best_config\n",
      "print best_score\n",
      "print \"Cell processing complete.\""
     ],
     "language": "python",
     "metadata": {
      "scrolled": true
     },
     "outputs": [
      {
       "output_type": "stream",
       "stream": "stdout",
       "text": [
        "For text we have this many features: 2148\n",
        "\n",
        " For the title we have this many features: 2203\n",
        "request_text_edit_aware\n"
       ]
      },
      {
       "output_type": "stream",
       "stream": "stdout",
       "text": [
        "\n",
        "For KNN cv :\n"
       ]
      },
      {
       "output_type": "stream",
       "stream": "stdout",
       "text": [
        "\n",
        "             precision    recall  f1-score   support\n",
        "\n",
        "        0.0       0.69      0.85      0.76       877\n",
        "        1.0       0.79      0.61      0.69       833\n",
        "\n",
        "avg / total       0.74      0.73      0.73      1710\n",
        "\n",
        "For KNN test :\n"
       ]
      },
      {
       "output_type": "stream",
       "stream": "stdout",
       "text": [
        "\n",
        "             precision    recall  f1-score   support\n",
        "\n",
        "        0.0       0.69      0.84      0.76       846\n",
        "        1.0       0.80      0.63      0.71       863\n",
        "\n",
        "avg / total       0.75      0.73      0.73      1709\n",
        "\n",
        "request_title\n",
        "\n",
        "For KNN cv :\n"
       ]
      },
      {
       "output_type": "stream",
       "stream": "stdout",
       "text": [
        "\n",
        "             precision    recall  f1-score   support\n",
        "\n",
        "        0.0       0.69      0.88      0.78       877\n",
        "        1.0       0.83      0.59      0.69       833\n",
        "\n",
        "avg / total       0.76      0.74      0.73      1710\n",
        "\n",
        "For KNN test :\n"
       ]
      },
      {
       "output_type": "stream",
       "stream": "stdout",
       "text": [
        "\n",
        "             precision    recall  f1-score   support\n",
        "\n",
        "        0.0       0.69      0.87      0.77       846\n",
        "        1.0       0.83      0.61      0.70       863\n",
        "\n",
        "avg / total       0.76      0.74      0.73      1709\n",
        "\n",
        "requester_subreddits_at_request\n",
        "\n",
        "For LR cv :\n"
       ]
      },
      {
       "output_type": "stream",
       "stream": "stdout",
       "text": [
        "\n",
        "             precision    recall  f1-score   support\n",
        "\n",
        "        0.0       0.72      0.73      0.72       877\n",
        "        1.0       0.71      0.71      0.71       833\n",
        "\n",
        "avg / total       0.72      0.72      0.72      1710\n",
        "\n",
        "For LR test :\n",
        "\n",
        "             precision    recall  f1-score   support\n",
        "\n",
        "        0.0       0.71      0.72      0.72       846\n",
        "        1.0       0.72      0.71      0.72       863\n",
        "\n",
        "avg / total       0.72      0.72      0.72      1709\n",
        "\n",
        "\n",
        "For DT cv with max depth of 32:\n",
        "\n",
        "             precision    recall  f1-score   support\n",
        "\n",
        "        0.0       0.88      0.69      0.77       877\n",
        "        1.0       0.73      0.90      0.81       833\n",
        "\n",
        "avg / total       0.81      0.79      0.79      1710\n",
        "\n",
        "The test results are:\n",
        "\n",
        "             precision    recall  f1-score   support\n",
        "\n",
        "        0.0       0.85      0.70      0.77       846\n",
        "        1.0       0.75      0.88      0.81       863\n",
        "\n",
        "avg / total       0.80      0.79      0.79      1709\n",
        "\n",
        "Ensemble models!!!\n",
        "\n"
       ]
      },
      {
       "output_type": "stream",
       "stream": "stdout",
       "text": [
        "\n"
       ]
      },
      {
       "metadata": {},
       "output_type": "display_data",
       "png": "[encoded data removed]",
       "text": [
        "<matplotlib.figure.Figure at 0x11095ad90>"
       ]
      },
      {
       "output_type": "stream",
       "stream": "stdout",
       "text": [
        "LogisticRegression(C=0.0001, class_weight=None, dual=False,\n",
        "          fit_intercept=True, intercept_scaling=1, max_iter=100,\n",
        "          multi_class='ovr', penalty='l2', random_state=None,\n",
        "          solver='liblinear', tol=0.0001, verbose=0)\n",
        "0.0001\n",
        "0.845523698069\n",
        "Cell processing complete.\n"
       ]
      }
     ],
     "prompt_number": 30
    },
    {
     "cell_type": "heading",
     "level": 2,
     "metadata": {},
     "source": [
      "Final Version"
     ]
    },
    {
     "cell_type": "code",
     "collapsed": false,
     "input": [
      "#create predictions for Kaggle\n",
      "#order of data:\n",
      "#text stuff\n",
      "#requester_account_age_in_days_at_request\n",
      "#requester_days_since_first_post_on_raop_at_request\n",
      "#requester_number_of_comments_at_request\n",
      "#requester_upvotes_minus_downvotes_at_request\n",
      "#requester_number_of_subreddits_at_request\n",
      "#unix_timestamp_of_request_utc\n",
      "#hyperlink exist\n",
      "\n",
      "#READ\n",
      "submission_data = pd.read_json('data/test.json')\n",
      "\n",
      "# myan: add length of text and has_link feature to the test data\n",
      "submission_lengh_of_text = []\n",
      "has_link = []\n",
      "for entry in submission_data.request_text_edit_aware.values:\n",
      "    submission_lengh_of_text.append(len(entry.split()))\n",
      "    has_link.append('http:' in entry or 'https:' in entry)\n",
      "submission_data['length_of_text'] = submission_lengh_of_text\n",
      "submission_data['has_link'] = has_link\n",
      "\n",
      "submission_data_text = submission_data.request_text_edit_aware\n",
      "submission_data_title = submission_data.request_title\n",
      "submission_data_subreddits = submission_data.requester_subreddits_at_request\n",
      "\n",
      "submission_data_age = submission_data.requester_account_age_in_days_at_request\n",
      "submission_data_days = submission_data.requester_days_since_first_post_on_raop_at_request\n",
      "submission_data_umd = submission_data.requester_upvotes_minus_downvotes_at_request\n",
      "submission_data_utc = submission_data.unix_timestamp_of_request_utc\n",
      "\n",
      "#TOKENIZE\n",
      "vec_text = CountVectorizer(vocabulary=ValuableVocab_Text[4],preprocessor=better_preprocessor)\n",
      "tokenized_submission_data_text = vec_text.fit_transform(submission_data_text)\n",
      "\n",
      "vec_title = CountVectorizer(vocabulary=ValuableVocab_Title[5],preprocessor=better_preprocessor)\n",
      "tokenized_submission_data_title = vec_title.fit_transform(submission_data_title)\n",
      "\n",
      "st_tmp = []\n",
      "\n",
      "for i in range(len(submission_data_subreddits)):\n",
      "    st_tmp.append(string.join(submission_data_subreddits[i],\" \"))\n",
      "\n",
      "vec_sr = CountVectorizer(vocabulary=ValuableVocab_Subreddits[6],preprocessor=better_preprocessor)\n",
      "tokenized_submission_data_sr = vec_sr.fit_transform(st_tmp)\n",
      "\n",
      "#AGG NUMERICAL FEATURES\n",
      "num_feat = submission_data[features].values\n",
      "\n",
      "#PREDICT\n",
      "text_prob = KNN_train_text.predict_proba(tokenized_submission_data_text)\n",
      "title_prob = KNN_train_title.predict_proba(tokenized_submission_data_title)\n",
      "sr_prob = LR_train_subreddit.predict_proba(tokenized_submission_data_sr)\n",
      "num_prob = best_numerical_classifier.predict_proba(num_feat)\n",
      "\n",
      "submission_ensemble_prob = np.c_[text_prob, title_prob, sr_prob, num_prob]\n",
      "\n",
      "best_clf.fit(train_ensemble_prob, train_up_labels) # myan: set this programatically\n",
      "submission_pred = best_clf.predict(submission_ensemble_prob)\n",
      "\n",
      "#OUTPUT\n",
      "predictions = pd.DataFrame()\n",
      "predictions['request_id'] = submission_data.request_id\n",
      "predictions['requester_received_pizza'] = submission_pred\n",
      "predictions = predictions.set_index('request_id')\n",
      "\n",
      "predictions.to_csv('Pizza_Learning_Submission_Single_Ensembling.csv')\n",
      "print \"Cell processing complete.\""
     ],
     "language": "python",
     "metadata": {},
     "outputs": [
      {
       "output_type": "stream",
       "stream": "stdout",
       "text": [
        "Cell processing complete.\n"
       ]
      }
     ],
     "prompt_number": 31
    },
    {
     "cell_type": "markdown",
     "metadata": {
      "collapsed": true
     },
     "source": [
      "## Final Version - With More Ensembling\n",
      "\n",
      "Another idea we had was to see if further ensembling helps improve the accuracy. Implementation below:\n",
      "1. Both **find_optim_model_textual** and **find_optim_model_numerical** output the best classifiers under each class (i.e. LR, KNN, NB, and DT);\n",
      "2. In the above section, we just picked the best out of the four (a.k.a best-of-best). Instead, here, we will train all four and use all to predict probabilities;\n",
      "3. We use the trained best ensemble classifier to combine the predicted probabilities of all classifier.\n",
      "\n",
      "This improved accuracy on test data from 0.83 to 0.87, while accuracy on leader board stays unchanged. Perhaps further ensembling will generalize better to unseen data as it has less reliance on the caliberation of a specific classifier. "
     ]
    },
    {
     "cell_type": "code",
     "collapsed": true,
     "input": [
      "def train_predictors(train_data, train_labels, predictors):\n",
      "    for _, predictor in predictors.items():\n",
      "        predictor.fit(train_data, train_labels)\n",
      "    return predictors\n",
      "\n",
      "def make_predict_probability_matrix(data_predictors):\n",
      "    prob_matrix = None\n",
      "    for (data, predictors) in data_predictors:            \n",
      "        for _, predictor in predictors.items():\n",
      "            if prob_matrix is None:\n",
      "                prob_matrix = predictor.predict_proba(data)\n",
      "            else:                \n",
      "                prob_matrix = np.c_[prob_matrix, predictor.predict_proba(data)]\n",
      "    return prob_matrix\n",
      "print \"Cell processing complete.\""
     ],
     "language": "python",
     "metadata": {},
     "outputs": [
      {
       "output_type": "stream",
       "stream": "stdout",
       "text": [
        "Cell processing complete.\n"
       ]
      }
     ],
     "prompt_number": 34
    },
    {
     "cell_type": "code",
     "collapsed": false,
     "input": [
      "trained_models_text = train_predictors(tokenized_train_data_text,train_up_labels, best_models_text)\n",
      "trained_models_title = train_predictors(tokenized_train_data_title,train_up_labels, best_models_title)\n",
      "trained_models_sr = train_predictors(tokenized_train_data_sr,train_up_labels, best_models_sr)\n",
      "trained_models_numerical = train_predictors(train_data_plus, train_up_labels, best_models)\n",
      "\n",
      "\n",
      "train_ensemble_prob2 = make_predict_probability_matrix([(tokenized_train_data_text, trained_models_text), \n",
      "                                                            (tokenized_train_data_title, trained_models_title),\n",
      "                                                            (tokenized_train_data_sr, trained_models_sr),\n",
      "                                                            (train_data_plus, trained_models_numerical)])\n",
      "\n",
      "cv_ensemble_prob2 = make_predict_probability_matrix([(tokenized_cv_data_text, trained_models_text), \n",
      "                                                            (tokenized_cv_data_title, trained_models_title),\n",
      "                                                            (tokenized_cv_data_sr, trained_models_sr),\n",
      "                                                            (cv_data_plus, trained_models_numerical)])\n",
      "\n",
      "test_ensemble_prob2 = make_predict_probability_matrix([(tokenized_test_data_text, trained_models_text), \n",
      "                                                            (tokenized_test_data_title, trained_models_title),\n",
      "                                                            (tokenized_test_data_sr, trained_models_sr),\n",
      "                                                            (test_data_plus, trained_models_numerical)])\n",
      "\n",
      "\n",
      "best_clf2, best_config2, best_score2, _, _ = find_optim_model_numerical(train_ensemble_prob2, \n",
      "                           train_up_labels, cv_ensemble_prob2, cv_up_labels, \n",
      "                           test_ensemble_prob2, test_up_labels)\n",
      "\n",
      "print best_clf2\n",
      "print best_config2\n",
      "print best_score2\n",
      "print \"Cell processing complete.\""
     ],
     "language": "python",
     "metadata": {},
     "outputs": [
      {
       "metadata": {},
       "output_type": "display_data",
       "png": "[encoded data removed]",
       "text": [
        "<matplotlib.figure.Figure at 0x110952350>"
       ]
      },
      {
       "output_type": "stream",
       "stream": "stdout",
       "text": [
        "LogisticRegression(C=0.0001, class_weight=None, dual=False,\n",
        "          fit_intercept=True, intercept_scaling=1, max_iter=100,\n",
        "          multi_class='ovr', penalty='l2', random_state=None,\n",
        "          solver='liblinear', tol=0.0001, verbose=0)\n",
        "0.0001\n",
        "0.871854885898\n",
        "Cell processing complete.\n"
       ]
      }
     ],
     "prompt_number": 35
    },
    {
     "cell_type": "code",
     "collapsed": false,
     "input": [
      "submission_ensemble_prob = make_predict_probability_matrix([(tokenized_submission_data_text, trained_models_text), \n",
      "                                                            (tokenized_submission_data_title, trained_models_title),\n",
      "                                                            (tokenized_submission_data_sr, trained_models_sr),\n",
      "                                                            (num_feat, trained_models_numerical)])\n",
      "best_clf2.fit(train_ensemble_prob2, train_up_labels) # myan: set this programatically\n",
      "submission_pred = best_clf2.predict(submission_ensemble_prob)\n",
      "\n",
      "#OUTPUT\n",
      "predictions = pd.DataFrame()\n",
      "predictions['request_id'] = submission_data.request_id\n",
      "predictions['requester_received_pizza'] = submission_pred\n",
      "predictions = predictions.set_index('request_id')\n",
      "\n",
      "predictions.to_csv('Pizza_Learning_Submission_Multi_Ensembling.csv')\n",
      "print \"Cell processing complete.\""
     ],
     "language": "python",
     "metadata": {},
     "outputs": [
      {
       "output_type": "stream",
       "stream": "stdout",
       "text": [
        "Cell processing complete.\n"
       ]
      }
     ],
     "prompt_number": 36
    },
    {
     "cell_type": "code",
     "collapsed": true,
     "input": [],
     "language": "python",
     "metadata": {},
     "outputs": [],
     "prompt_number": 25
    },
    {
     "cell_type": "code",
     "collapsed": false,
     "input": [],
     "language": "python",
     "metadata": {},
     "outputs": [],
     "prompt_number": 25
    },
    {
     "cell_type": "code",
     "collapsed": false,
     "input": [],
     "language": "python",
     "metadata": {},
     "outputs": []
    }
   ],
   "metadata": {}
  }
 ]
}