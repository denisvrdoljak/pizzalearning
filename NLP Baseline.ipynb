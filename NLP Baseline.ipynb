{
 "cells": [
  {
   "cell_type": "code",
   "execution_count": 73,
   "metadata": {
    "collapsed": false
   },
   "outputs": [
    {
     "name": "stdout",
     "output_type": "stream",
     "text": [
      "The dataset contains 5671 samples.\n",
      "Available attributes:  [u'giver_username_if_known', u'in_test_set', u'number_of_downvotes_of_request_at_retrieval', u'number_of_upvotes_of_request_at_retrieval', u'post_was_edited', u'request_id', u'request_number_of_comments_at_retrieval', u'request_text', u'request_text_edit_aware', u'request_title', u'requester_account_age_in_days_at_request', u'requester_account_age_in_days_at_retrieval', u'requester_days_since_first_post_on_raop_at_request', u'requester_days_since_first_post_on_raop_at_retrieval', u'requester_number_of_comments_at_request', u'requester_number_of_comments_at_retrieval', u'requester_number_of_comments_in_raop_at_request', u'requester_number_of_comments_in_raop_at_retrieval', u'requester_number_of_posts_at_request', u'requester_number_of_posts_at_retrieval', u'requester_number_of_posts_on_raop_at_request', u'requester_number_of_posts_on_raop_at_retrieval', u'requester_number_of_subreddits_at_request', u'requester_received_pizza', u'requester_subreddits_at_request', u'requester_upvotes_minus_downvotes_at_request', u'requester_upvotes_minus_downvotes_at_retrieval', u'requester_upvotes_plus_downvotes_at_request', u'requester_upvotes_plus_downvotes_at_retrieval', u'requester_user_flair', u'requester_username', u'unix_timestamp_of_request', u'unix_timestamp_of_request_utc']\n",
      "First post:\n",
      "{\n",
      "  \"giver_username_if_known\": \"N/A\", \n",
      "  \"in_test_set\": false, \n",
      "  \"number_of_downvotes_of_request_at_retrieval\": 2, \n",
      "  \"number_of_upvotes_of_request_at_retrieval\": 6, \n",
      "  \"post_was_edited\": false, \n",
      "  \"request_id\": \"t3_w5491\", \n",
      "  \"request_number_of_comments_at_retrieval\": 7, \n",
      "  \"request_text\": \"I'm not in College, or a starving artist or anything like that. I've just been a bit unlucky lately. I'm a 36 year old single guy with a job. But rent, and other bills killed me this month. I thought I had enough funds in my account to at least keep me set with Mr. Noodles, I forgot about my monthly banking fee.\\n\\nI had a small bag of chips Wednesday afternoon, and I get paid Monday, so I'll be fine then.. It's just really painful at this point and food is something I'm constantly thinking about.\\n\\nI've got a few bucks to get on the bus to work on Saturday, so I can't really use that.\\n\\nI'm really embarrassed to even be asking like this and I'm not sure how it works, so please be patient with me.\\n\\nI guess that covers it. Thank you in advance.\\n\\nCheers folks.\", \n",
      "  \"request_text_edit_aware\": \"I'm not in College, or a starving artist or anything like that. I've just been a bit unlucky lately. I'm a 36 year old single guy with a job. But rent, and other bills killed me this month. I thought I had enough funds in my account to at least keep me set with Mr. Noodles, I forgot about my monthly banking fee.\\n\\nI had a small bag of chips Wednesday afternoon, and I get paid Monday, so I'll be fine then.. It's just really painful at this point and food is something I'm constantly thinking about.\\n\\nI've got a few bucks to get on the bus to work on Saturday, so I can't really use that.\\n\\nI'm really embarrassed to even be asking like this and I'm not sure how it works, so please be patient with me.\\n\\nI guess that covers it. Thank you in advance.\\n\\nCheers folks.\", \n",
      "  \"request_title\": \"[Request] Ontario, Canada - On my 3rd of 5 days without food, and it's getting unbearable. Can anyone help?\", \n",
      "  \"requester_account_age_in_days_at_request\": 14.416875, \n",
      "  \"requester_account_age_in_days_at_retrieval\": 531.9697222222222, \n",
      "  \"requester_days_since_first_post_on_raop_at_request\": 0.0, \n",
      "  \"requester_days_since_first_post_on_raop_at_retrieval\": 517.5111805555556, \n",
      "  \"requester_number_of_comments_at_request\": 8, \n",
      "  \"requester_number_of_comments_at_retrieval\": 93, \n",
      "  \"requester_number_of_comments_in_raop_at_request\": 0, \n",
      "  \"requester_number_of_comments_in_raop_at_retrieval\": 4, \n",
      "  \"requester_number_of_posts_at_request\": 1, \n",
      "  \"requester_number_of_posts_at_retrieval\": 6, \n",
      "  \"requester_number_of_posts_on_raop_at_request\": 0, \n",
      "  \"requester_number_of_posts_on_raop_at_retrieval\": 2, \n",
      "  \"requester_number_of_subreddits_at_request\": 8, \n",
      "  \"requester_received_pizza\": true, \n",
      "  \"requester_subreddits_at_request\": [\n",
      "    \"AdviceAnimals\", \n",
      "    \"WTF\", \n",
      "    \"funny\", \n",
      "    \"gaming\", \n",
      "    \"movies\", \n",
      "    \"technology\", \n",
      "    \"todayilearned\", \n",
      "    \"videos\"\n",
      "  ], \n",
      "  \"requester_upvotes_minus_downvotes_at_request\": 32, \n",
      "  \"requester_upvotes_minus_downvotes_at_retrieval\": 212, \n",
      "  \"requester_upvotes_plus_downvotes_at_request\": 48, \n",
      "  \"requester_upvotes_plus_downvotes_at_retrieval\": 610, \n",
      "  \"requester_user_flair\": \"shroom\", \n",
      "  \"requester_username\": \"RitalinYourMemory\", \n",
      "  \"unix_timestamp_of_request\": 1341604684.0, \n",
      "  \"unix_timestamp_of_request_utc\": 1341601084.0\n",
      "}\n",
      "The average success rate is: 24.63%\n"
     ]
    }
   ],
   "source": [
    "from sklearn import metrics\n",
    "import pandas as pd\n",
    "import numpy as np\n",
    "from sklearn.feature_extraction.text import CountVectorizer\n",
    "from sklearn.linear_model import LinearRegression\n",
    "from sklearn.metrics import classification_report\n",
    "import codecs\n",
    "import json\n",
    "import itertools\n",
    "import csv\n",
    "\n",
    "def read_dataset(path):\n",
    "  with codecs.open(path, 'r', 'utf-8') as myFile:\n",
    "    content = myFile.read()\n",
    "  dataset = json.loads(content)\n",
    "  return dataset\n",
    "\n",
    "path = './pizza_request_dataset.json'\n",
    "dataset = read_dataset(path)\n",
    "\n",
    "print 'The dataset contains %d samples.' %(len(dataset))\n",
    "print 'Available attributes: ', sorted(dataset[0].keys())\n",
    "print 'First post:'\n",
    "print json.dumps(dataset[0], sort_keys=True, indent=2)\n",
    "\n",
    "successes = [r['requester_received_pizza'] for r in dataset]\n",
    "success_rate = 100.0 * sum(successes) / float(len(successes))\n",
    "print 'The average success rate is: %.2f%%' %(success_rate)\n",
    "\n",
    "shuffle = np.random.permutation(np.arange(len(dataset)))"
   ]
  },
  {
   "cell_type": "code",
   "execution_count": 69,
   "metadata": {
    "collapsed": false
   },
   "outputs": [
    {
     "name": "stdout",
     "output_type": "stream",
     "text": [
      "(3969, 12291)\n",
      "(1701, 12291)\n"
     ]
    }
   ],
   "source": [
    "#read train data\n",
    "\n",
    "train = []\n",
    "test = []\n",
    "\n",
    "for i in range(int(len(shuffle) * 0.7)):\n",
    "    train.append(dataset[shuffle[i]])\n",
    "\n",
    "for i in range(int(len(shuffle) * 0.3)):\n",
    "    test.append(dataset[shuffle[len(shuffle) - i - 1]])\n",
    "    \n",
    "train_labels = np.zeros(len(train))\n",
    "test_labels = np.zeros(len(test))\n",
    "\n",
    "train_data_text = []\n",
    "test_data_text = []\n",
    "\n",
    "for i in range(len(train_labels)):\n",
    "    train_labels[i] = train[i].get('requester_received_pizza')\n",
    "    train_data_text.append(train[i].get('request_text_edit_aware'))\n",
    "\n",
    "for i in range(len(test_labels)):\n",
    "    test_labels[i] = test[i].get('requester_received_pizza')\n",
    "    test_data_text.append(test[i].get('request_text_edit_aware'))\n",
    "\n",
    "vec_train = CountVectorizer()\n",
    "tokenized_train_data = vec_train.fit_transform(train_data_text)\n",
    "\n",
    "vec_test = CountVectorizer(vocabulary=vec_train.vocabulary_)\n",
    "tokenized_test_data = vec_test.fit_transform(test_data_text)\n",
    "\n",
    "print tokenized_train_data.shape\n",
    "print tokenized_test_data.shape\n"
   ]
  },
  {
   "cell_type": "code",
   "execution_count": 70,
   "metadata": {
    "collapsed": false
   },
   "outputs": [
    {
     "name": "stdout",
     "output_type": "stream",
     "text": [
      "             precision    recall  f1-score   support\n",
      "\n",
      "        0.0       0.77      0.86      0.81      1277\n",
      "        1.0       0.35      0.23      0.28       424\n",
      "\n",
      "avg / total       0.66      0.70      0.68      1701\n",
      "\n"
     ]
    }
   ],
   "source": [
    "LR_train = LogisticRegression()\n",
    "LR_train.fit(tokenized_train_data,train_labels)\n",
    "\n",
    "test_pred = LR_train.predict(tokenized_test_data)\n",
    "\n",
    "print(classification_report(test_labels, test_pred))\n"
   ]
  },
  {
   "cell_type": "code",
   "execution_count": 78,
   "metadata": {
    "collapsed": false
   },
   "outputs": [],
   "source": [
    "#create predictions for Kaggle\n",
    "test_data = pd.read_json('data/test.json')\n",
    "test_data_text = test_data.request_text_edit_aware\n",
    "\n",
    "tokenized_test_data = vec_test.fit_transform(test_data_text)\n",
    "\n",
    "test_pred = LR_train.predict(tokenized_test_data)\n",
    "\n",
    "predictions = pd.DataFrame()\n",
    "predictions['request_id'] = test_data.request_id\n",
    "predictions['requester_received_pizza'] = test_pred\n",
    "predictions = predictions.set_index('request_id')\n",
    "\n",
    "predictions.to_csv('NLP_submission.csv')"
   ]
  }
 ],
 "metadata": {
  "kernelspec": {
   "display_name": "Python 2",
   "language": "python",
   "name": "python2"
  },
  "language_info": {
   "codemirror_mode": {
    "name": "ipython",
    "version": 2
   },
   "file_extension": ".py",
   "mimetype": "text/x-python",
   "name": "python",
   "nbconvert_exporter": "python",
   "pygments_lexer": "ipython2",
   "version": "2.7.10"
  }
 },
 "nbformat": 4,
 "nbformat_minor": 0
}
