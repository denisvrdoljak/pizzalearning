{
 "metadata": {
  "name": "",
  "signature": "sha256:7b473a7a16001b74b40da24cf9137dae3851038b2cc30a2987a0fb9cfe228be5"
 },
 "nbformat": 3,
 "nbformat_minor": 0,
 "worksheets": [
  {
   "cells": [
    {
     "cell_type": "code",
     "collapsed": false,
     "input": [
      "def get_low_acc_filter(inputset,inputlabels, predictedlabels):\n",
      "    feature_accuracy = inputset[1]*0\n",
      "    \n",
      "    #score data points (pixels)\n",
      "    for j,datapoint in enumerate(inputset):\n",
      "        for i,feature in enumerate(datapoint):\n",
      "            if (feature>0):\n",
      "                if(inputlabels[j]==predictedlabels[j]):\n",
      "                    pixel_accuracy[i]+=2\n",
      "                else:\n",
      "                    pixel_accuracy[i]-=1\n",
      "\n",
      "    #normalize, set cut-off level (cut lowers 25%)\n",
      "    feature_accuracy-= min(feature_accuracy)\n",
      "    theshold_weight = max(list(feature_accuracy))/4\n",
      "    pixel_accuracy-=theshold_weight\n",
      "    \n",
      "    #apply cut-off/threshold\n",
      "    for n,featurescore in enumerate(feature_accuracy):\n",
      "        if featurescore>0:\n",
      "            feature_accuracy[n]=1\n",
      "        if feature<0:\n",
      "            feature_accuracy[n]=0\n",
      "    return feature_accuracy\n",
      "            \n",
      "#to apply:\n",
      "\n",
      "#filtered_data = list()\n",
      "#for datum in input_data:\n",
      "#        filtered_data.append(datum*pixel_accuracy)\n",
      "###"
     ],
     "language": "python",
     "metadata": {},
     "outputs": [],
     "prompt_number": 5
    },
    {
     "cell_type": "code",
     "collapsed": false,
     "input": [
      "def pizza_preprocessor(s):\n",
      "    s = re.sub('\\'', '', s)\n",
      "    s = re.sub(r'\\d+', ' ', s)\n",
      "    s = s.lower()\n",
      "    return s"
     ],
     "language": "python",
     "metadata": {},
     "outputs": []
    },
    {
     "cell_type": "code",
     "collapsed": false,
     "input": [
      "from nltk.sentiment import SentimentAnalyzer\n",
      "def sentiiment(text):\n",
      "    text = pizza_preprocessor(text):\n",
      "        #having trouble here...\n",
      "        return 0\n",
      "    "
     ],
     "language": "python",
     "metadata": {},
     "outputs": []
    }
   ],
   "metadata": {}
  }
 ]
}